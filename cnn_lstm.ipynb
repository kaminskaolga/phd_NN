{
 "cells": [
  {
   "cell_type": "code",
   "execution_count": 1,
   "metadata": {},
   "outputs": [],
   "source": [
    "import pandas as pd\n",
    "import numpy as np\n",
    "import tensorflow as tf\n",
    "from sklearn import preprocessing\n",
    "from sklearn.metrics import confusion_matrix, classification_report\n",
    "import matplotlib.pyplot as plt\n",
    "import polars as pl\n",
    "from datetime import timedelta\n",
    "from sklearn.model_selection import train_test_split\n",
    "from sklearn.preprocessing import LabelEncoder, StandardScaler\n",
    "from tensorflow.keras.preprocessing.sequence import pad_sequences\n",
    "import tensorflow as tf\n",
    "from tensorflow.keras.models import Sequential\n",
    "from tensorflow.keras.layers import Conv1D, MaxPooling1D, LSTM, Dense, Dropout, Flatten\n",
    "from sklearn.utils.class_weight import compute_class_weight\n",
    "import numpy as np\n",
    "import gc\n",
    "import os\n",
    "from tensorflow.keras.utils import to_categorical\n",
    "from tensorflow.keras.callbacks import EarlyStopping"
   ]
  },
  {
   "cell_type": "code",
   "execution_count": 2,
   "metadata": {},
   "outputs": [
    {
     "data": {
      "text/plain": [
       "30"
      ]
     },
     "execution_count": 2,
     "metadata": {},
     "output_type": "execute_result"
    }
   ],
   "source": [
    "gc.collect()"
   ]
  },
  {
   "cell_type": "code",
   "execution_count": 3,
   "metadata": {},
   "outputs": [
    {
     "name": "stdout",
     "output_type": "stream",
     "text": [
      "Czy GPU jestt :  []\n"
     ]
    },
    {
     "data": {
      "text/plain": [
       "[PhysicalDevice(name='/physical_device:CPU:0', device_type='CPU')]"
      ]
     },
     "execution_count": 3,
     "metadata": {},
     "output_type": "execute_result"
    }
   ],
   "source": [
    "print(\"Czy GPU jestt : \", tf.config.list_physical_devices('GPU'))\n",
    "import tensorflow as tf   # TensorFlow registers PluggableDevices here.\n",
    "tf.config.list_physical_devices()"
   ]
  },
  {
   "cell_type": "markdown",
   "metadata": {},
   "source": [
    "### Pobranie przetworzonych danych"
   ]
  },
  {
   "cell_type": "code",
   "execution_count": 4,
   "metadata": {},
   "outputs": [
    {
     "name": "stdout",
     "output_type": "stream",
     "text": [
      "Przetwarzanie pliku 1/11: .\\danonki\\1472_all_confidence.csv\n",
      "Przetwarzanie pliku 2/11: .\\danonki\\2004_data_confidence.csv\n",
      "Przetwarzanie pliku 3/11: .\\danonki\\2500_data_confidence.csv\n",
      "Przetwarzanie pliku 4/11: .\\danonki\\2582_all_confidence.csv\n",
      "Przetwarzanie pliku 5/11: .\\danonki\\4614_data_confidence.csv\n",
      "Przetwarzanie pliku 6/11: .\\danonki\\4953_data_confidence.csv\n",
      "Przetwarzanie pliku 7/11: .\\danonki\\5656_data_confidence.csv\n",
      "Przetwarzanie pliku 8/11: .\\danonki\\6139_data_confidence.csv\n",
      "Przetwarzanie pliku 9/11: .\\danonki\\6241_data_confidence.csv\n",
      "Przetwarzanie pliku 10/11: .\\danonki\\6601_data_confidence.csv\n",
      "Przetwarzanie pliku 11/11: .\\danonki\\6701_all_confidence.csv\n"
     ]
    },
    {
     "name": "stderr",
     "output_type": "stream",
     "text": [
      "C:\\Users\\user\\AppData\\Local\\Temp\\ipykernel_13396\\3567989812.py:10: PerformanceWarning: Determining the column names of a LazyFrame requires resolving its schema, which is a potentially expensive operation. Use `LazyFrame.collect_schema().names()` to get the column names without this warning.\n",
      "  for col_name in df.columns if col_name in reference_schema\n"
     ]
    },
    {
     "name": "stdout",
     "output_type": "stream",
     "text": [
      "shape: (5_482_197, 103)\n",
      "┌───────┬────────────┬────────────┬──────────┬───┬────────────┬────────────┬───────────┬───────────┐\n",
      "│ mr    ┆ patient_id ┆ chunk_numb ┆ frame_nr ┆ … ┆ pcm_fftMag ┆ pcm_fftMag ┆ pcm_fftMa ┆ pcm_fftMa │\n",
      "│ ---   ┆ ---        ┆ er         ┆ ---      ┆   ┆ _mfcc_9_   ┆ _mfcc_10_  ┆ g_mfcc_11 ┆ g_mfcc_12 │\n",
      "│ i64   ┆ i64        ┆ ---        ┆ i64      ┆   ┆ ---        ┆ ---        ┆ _         ┆ _         │\n",
      "│       ┆            ┆ i64        ┆          ┆   ┆ f64        ┆ f64        ┆ ---       ┆ ---       │\n",
      "│       ┆            ┆            ┆          ┆   ┆            ┆            ┆ f64       ┆ f64       │\n",
      "╞═══════╪════════════╪════════════╪══════════╪═══╪════════════╪════════════╪═══════════╪═══════════╡\n",
      "│ 5857  ┆ 1472       ┆ 0          ┆ 1        ┆ … ┆ 0.0        ┆ 0.0        ┆ 0.0       ┆ 0.0       │\n",
      "│ 5857  ┆ 1472       ┆ 0          ┆ 2        ┆ … ┆ 0.0        ┆ 0.0        ┆ 0.0       ┆ 0.0       │\n",
      "│ 5857  ┆ 1472       ┆ 0          ┆ 3        ┆ … ┆ 0.0        ┆ 0.0        ┆ 0.0       ┆ 0.0       │\n",
      "│ 5857  ┆ 1472       ┆ 0          ┆ 4        ┆ … ┆ 0.0        ┆ 0.0        ┆ 0.0       ┆ 0.0       │\n",
      "│ 5857  ┆ 1472       ┆ 0          ┆ 5        ┆ … ┆ 0.0        ┆ 0.0        ┆ 0.0       ┆ 0.0       │\n",
      "│ …     ┆ …          ┆ …          ┆ …        ┆ … ┆ …          ┆ …          ┆ …         ┆ …         │\n",
      "│ 41346 ┆ 6701       ┆ 0          ┆ 2981     ┆ … ┆ -3.941044  ┆ -1.315835  ┆ 2.682294  ┆ 28.75385  │\n",
      "│ 41346 ┆ 6701       ┆ 0          ┆ 2982     ┆ … ┆ -3.416076  ┆ -2.918543  ┆ -0.495219 ┆ 30.00789  │\n",
      "│ 41346 ┆ 6701       ┆ 0          ┆ 2983     ┆ … ┆ -5.431281  ┆ 3.477202   ┆ 5.942226  ┆ 26.98683  │\n",
      "│ 41346 ┆ 6701       ┆ 0          ┆ 2984     ┆ … ┆ 1.241928   ┆ 0.9324176  ┆ 11.10309  ┆ 29.25787  │\n",
      "│ 41346 ┆ 6701       ┆ 0          ┆ 2985     ┆ … ┆ 2.19968    ┆ -0.374768  ┆ -2.922068 ┆ 30.04824  │\n",
      "└───────┴────────────┴────────────┴──────────┴───┴────────────┴────────────┴───────────┴───────────┘\n"
     ]
    }
   ],
   "source": [
    "probka = pl.read_csv('.\\\\danonki\\\\1472_all_confidence.csv', n_rows=50, ignore_errors=True)\n",
    "kolumny = probka.columns\n",
    "reference_schema = probka.schema\n",
    "\n",
    "def cast_to_reference_schema_special(df, reference_schema):\n",
    "    return df.with_columns([\n",
    "        # Jeśli docelowy typ to Int64, wykonaj najpierw cast na Float64, a potem na Int64\n",
    "        pl.col(col_name).cast(pl.Float64).cast(pl.Int64) if reference_schema[col_name] == pl.Int64 \n",
    "        else pl.col(col_name).cast(reference_schema[col_name])  # Dla pozostałych kolumn wykonaj zwykłe rzutowanie\n",
    "        for col_name in df.columns if col_name in reference_schema\n",
    "    ])\n",
    "\n",
    "\n",
    "folder_path = '.\\\\danonki'\n",
    "file_paths = [os.path.join(folder_path, f) for f in os.listdir(folder_path) if f.endswith('.csv')]\n",
    "\n",
    "# Lista przechowująca przetworzone ramki danych\n",
    "dane_lazy_frames = []\n",
    " \n",
    "#Przetwarzanie plików\n",
    "for i, path in enumerate(file_paths):\n",
    "    print(f\"Przetwarzanie pliku {i + 1}/{len(file_paths)}: {path}\")\n",
    "\n",
    "    # Lazy load ramki z rzutowaniem\n",
    "    dane_lazy = (\n",
    "        pl.scan_csv(path, ignore_errors=True)\n",
    "    )\n",
    "\n",
    "    dane_lazy = cast_to_reference_schema_special(dane_lazy, reference_schema)\n",
    " \n",
    "    dane_lazy_frames.append(dane_lazy)\n",
    "\n",
    "# Konkatenacja wszystkich ramek danych\n",
    "dane_combined_lazy = pl.concat(dane_lazy_frames, how=\"vertical\")\n",
    "\n",
    "# Zmaterializowanie połączonych danych\n",
    "final_data = dane_combined_lazy.collect()"
   ]
  },
  {
   "cell_type": "code",
   "execution_count": 5,
   "metadata": {},
   "outputs": [
    {
     "name": "stdout",
     "output_type": "stream",
     "text": [
      "Przetwarzanie pliku 1/13: .\\danonki2\\0681_data_confidence.csv\n",
      "Przetwarzanie pliku 2/13: .\\danonki2\\1153_data_confidence.csv\n",
      "Przetwarzanie pliku 3/13: .\\danonki2\\1981_all_confidence.csv\n",
      "Przetwarzanie pliku 4/13: .\\danonki2\\6754_data_confidence.csv\n",
      "Przetwarzanie pliku 5/13: .\\danonki2\\7297_data_confidence.csv\n",
      "Przetwarzanie pliku 6/13: .\\danonki2\\7379_data_confidence.csv\n",
      "Przetwarzanie pliku 7/13: .\\danonki2\\8193_data_confidence.csv\n",
      "Przetwarzanie pliku 8/13: .\\danonki2\\8281_data_confidence.csv\n",
      "Przetwarzanie pliku 9/13: .\\danonki2\\8560_all_confidence.csv\n",
      "Przetwarzanie pliku 10/13: .\\danonki2\\8779_data_confidence.csv\n",
      "Przetwarzanie pliku 11/13: .\\danonki2\\8866_data_confidence.csv\n",
      "Przetwarzanie pliku 12/13: .\\danonki2\\9813_data_confidence.csv\n",
      "Przetwarzanie pliku 13/13: .\\danonki2\\9829_data_confidence.csv\n"
     ]
    },
    {
     "name": "stderr",
     "output_type": "stream",
     "text": [
      "C:\\Users\\user\\AppData\\Local\\Temp\\ipykernel_13396\\2070821668.py:10: PerformanceWarning: Determining the column names of a LazyFrame requires resolving its schema, which is a potentially expensive operation. Use `LazyFrame.collect_schema().names()` to get the column names without this warning.\n",
      "  for col_name in df.columns if col_name in reference_schema\n"
     ]
    },
    {
     "name": "stdout",
     "output_type": "stream",
     "text": [
      "shape: (3_015_092, 103)\n",
      "┌───────┬────────────┬────────────┬──────────┬───┬────────────┬────────────┬───────────┬───────────┐\n",
      "│ mr    ┆ patient_id ┆ chunk_numb ┆ frame_nr ┆ … ┆ pcm_fftMag ┆ pcm_fftMag ┆ pcm_fftMa ┆ pcm_fftMa │\n",
      "│ ---   ┆ ---        ┆ er         ┆ ---      ┆   ┆ _mfcc_9_   ┆ _mfcc_10_  ┆ g_mfcc_11 ┆ g_mfcc_12 │\n",
      "│ i64   ┆ i64        ┆ ---        ┆ i64      ┆   ┆ ---        ┆ ---        ┆ _         ┆ _         │\n",
      "│       ┆            ┆ i64        ┆          ┆   ┆ f64        ┆ f64        ┆ ---       ┆ ---       │\n",
      "│       ┆            ┆            ┆          ┆   ┆            ┆            ┆ f64       ┆ f64       │\n",
      "╞═══════╪════════════╪════════════╪══════════╪═══╪════════════╪════════════╪═══════════╪═══════════╡\n",
      "│ 25263 ┆ 681        ┆ 0          ┆ 1        ┆ … ┆ -12.87781  ┆ -1.392209  ┆ 2.959874  ┆ 40.61887  │\n",
      "│ 25263 ┆ 681        ┆ 0          ┆ 2        ┆ … ┆ 3.042789   ┆ -8.854153  ┆ -7.27696  ┆ 47.30368  │\n",
      "│ 25263 ┆ 681        ┆ 0          ┆ 3        ┆ … ┆ 7.335399   ┆ 4.569092   ┆ 13.01098  ┆ 43.04825  │\n",
      "│ 25263 ┆ 681        ┆ 0          ┆ 4        ┆ … ┆ 6.260978   ┆ 10.32933   ┆ 5.658875  ┆ 40.76059  │\n",
      "│ 25263 ┆ 681        ┆ 0          ┆ 5        ┆ … ┆ 20.10493   ┆ 18.10293   ┆ 6.938884  ┆ 38.13728  │\n",
      "│ …     ┆ …          ┆ …          ┆ …        ┆ … ┆ …          ┆ …          ┆ …         ┆ …         │\n",
      "│ 43783 ┆ 9829       ┆ 0          ┆ 193      ┆ … ┆ -2.075936  ┆ -1.635179  ┆ -0.259137 ┆ 98.36544  │\n",
      "│ 43783 ┆ 9829       ┆ 0          ┆ 194      ┆ … ┆ -2.238024  ┆ 2.791383   ┆ -1.852621 ┆ 95.60413  │\n",
      "│ 43783 ┆ 9829       ┆ 0          ┆ 195      ┆ … ┆ -1.863579  ┆ 12.7641    ┆ -5.039705 ┆ 96.22305  │\n",
      "│ 43783 ┆ 9829       ┆ 0          ┆ 196      ┆ … ┆ -7.812363  ┆ -0.077237  ┆ -2.09391  ┆ 97.52575  │\n",
      "│ 43783 ┆ 9829       ┆ 0          ┆ 197      ┆ … ┆ 1.0        ┆ 1.0        ┆ 1.0       ┆ 1.0       │\n",
      "└───────┴────────────┴────────────┴──────────┴───┴────────────┴────────────┴───────────┴───────────┘\n"
     ]
    }
   ],
   "source": [
    "probka = pl.read_csv('.\\\\danonki\\\\1472_all_confidence.csv', n_rows=50, ignore_errors=True)\n",
    "kolumny = probka.columns\n",
    "reference_schema = probka.schema\n",
    "\n",
    "def cast_to_reference_schema_special(df, reference_schema):\n",
    "    return df.with_columns([\n",
    "        # Jeśli docelowy typ to Int64, wykonaj najpierw cast na Float64, a potem na Int64\n",
    "        pl.col(col_name).cast(pl.Float64).cast(pl.Int64) if reference_schema[col_name] == pl.Int64 \n",
    "        else pl.col(col_name).cast(reference_schema[col_name])  # Dla pozostałych kolumn wykonaj zwykłe rzutowanie\n",
    "        for col_name in df.columns if col_name in reference_schema\n",
    "    ])\n",
    "\n",
    "\n",
    "folder_path = '.\\\\danonki2'\n",
    "file_paths = [os.path.join(folder_path, f) for f in os.listdir(folder_path) if f.endswith('.csv')]\n",
    "\n",
    "# Lista przechowująca przetworzone ramki danych\n",
    "dane_lazy_frames = []\n",
    " \n",
    "#Przetwarzanie plików\n",
    "for i, path in enumerate(file_paths):\n",
    "    print(f\"Przetwarzanie pliku {i + 1}/{len(file_paths)}: {path}\")\n",
    "\n",
    "    # Lazy load ramki z rzutowaniem\n",
    "    dane_lazy = (\n",
    "        pl.scan_csv(path, ignore_errors=True)\n",
    "    )\n",
    "\n",
    "    dane_lazy = cast_to_reference_schema_special(dane_lazy, reference_schema)\n",
    " \n",
    "    dane_lazy_frames.append(dane_lazy)\n",
    "\n",
    "# Konkatenacja wszystkich ramek danych\n",
    "dane_combined_lazy2 = pl.concat(dane_lazy_frames, how=\"vertical\")\n",
    "\n",
    "# Zmaterializowanie połączonych danych\n",
    "final_data2 = dane_combined_lazy2.collect()"
   ]
  },
  {
   "cell_type": "code",
   "execution_count": 6,
   "metadata": {},
   "outputs": [],
   "source": [
    "del dane_combined_lazy, dane_combined_lazy2 , dane_lazy, dane_lazy_frames, file_paths, folder_path, i, kolumny, path, reference_schema"
   ]
  },
  {
   "cell_type": "code",
   "execution_count": 7,
   "metadata": {},
   "outputs": [],
   "source": [
    "df = pl.concat([final_data, final_data2], how=\"vertical\")"
   ]
  },
  {
   "cell_type": "code",
   "execution_count": 24,
   "metadata": {},
   "outputs": [],
   "source": [
    "del final_data, final_data2"
   ]
  },
  {
   "cell_type": "code",
   "execution_count": 10,
   "metadata": {},
   "outputs": [
    {
     "data": {
      "text/html": [
       "<div><style>\n",
       ".dataframe > thead > tr,\n",
       ".dataframe > tbody > tr {\n",
       "  text-align: right;\n",
       "  white-space: pre-wrap;\n",
       "}\n",
       "</style>\n",
       "<small>shape: (4, 2)</small><table border=\"1\" class=\"dataframe\"><thead><tr><th>label</th><th>count</th></tr><tr><td>str</td><td>u32</td></tr></thead><tbody><tr><td>&quot;depression&quot;</td><td>1923498</td></tr><tr><td>&quot;euthymia&quot;</td><td>1030844</td></tr><tr><td>&quot;mixed&quot;</td><td>637869</td></tr><tr><td>&quot;mania&quot;</td><td>1093569</td></tr></tbody></table></div>"
      ],
      "text/plain": [
       "shape: (4, 2)\n",
       "┌────────────┬─────────┐\n",
       "│ label      ┆ count   │\n",
       "│ ---        ┆ ---     │\n",
       "│ str        ┆ u32     │\n",
       "╞════════════╪═════════╡\n",
       "│ depression ┆ 1923498 │\n",
       "│ euthymia   ┆ 1030844 │\n",
       "│ mixed      ┆ 637869  │\n",
       "│ mania      ┆ 1093569 │\n",
       "└────────────┴─────────┘"
      ]
     },
     "execution_count": 10,
     "metadata": {},
     "output_type": "execute_result"
    }
   ],
   "source": [
    "# df.group_by([\"label\"]).agg(pl.col(\"label\").count().alias(\"count\"))"
   ]
  },
  {
   "cell_type": "code",
   "execution_count": 8,
   "metadata": {},
   "outputs": [
    {
     "data": {
      "text/html": [
       "<div><style>\n",
       ".dataframe > thead > tr,\n",
       ".dataframe > tbody > tr {\n",
       "  text-align: right;\n",
       "  white-space: pre-wrap;\n",
       "}\n",
       "</style>\n",
       "<small>shape: (4, 2)</small><table border=\"1\" class=\"dataframe\"><thead><tr><th>label</th><th>count</th></tr><tr><td>str</td><td>u32</td></tr></thead><tbody><tr><td>&quot;depression&quot;</td><td>2385416</td></tr><tr><td>&quot;euthymia&quot;</td><td>3798750</td></tr><tr><td>&quot;mixed&quot;</td><td>1085154</td></tr><tr><td>&quot;mania&quot;</td><td>1227969</td></tr></tbody></table></div>"
      ],
      "text/plain": [
       "shape: (4, 2)\n",
       "┌────────────┬─────────┐\n",
       "│ label      ┆ count   │\n",
       "│ ---        ┆ ---     │\n",
       "│ str        ┆ u32     │\n",
       "╞════════════╪═════════╡\n",
       "│ depression ┆ 2385416 │\n",
       "│ euthymia   ┆ 3798750 │\n",
       "│ mixed      ┆ 1085154 │\n",
       "│ mania      ┆ 1227969 │\n",
       "└────────────┴─────────┘"
      ]
     },
     "execution_count": 8,
     "metadata": {},
     "output_type": "execute_result"
    }
   ],
   "source": [
    "df.group_by([\"label\"]).agg(pl.col(\"label\").count().alias(\"count\"))"
   ]
  },
  {
   "cell_type": "code",
   "execution_count": 9,
   "metadata": {},
   "outputs": [],
   "source": [
    "df = df.fill_null(0)"
   ]
  },
  {
   "cell_type": "markdown",
   "metadata": {},
   "source": [
    "## Przygotowanie pod sieć CNN"
   ]
  },
  {
   "cell_type": "markdown",
   "metadata": {},
   "source": [
    "### Encoding danych"
   ]
  },
  {
   "cell_type": "code",
   "execution_count": 10,
   "metadata": {},
   "outputs": [],
   "source": [
    "start_idx = df.columns.index('pcm_LOGenergy_sma')\n",
    "end_idx = df.columns.index('pcm_fftMag_mfcc_12_')\n",
    "    \n",
    "# Select specific columns along with the dynamically sliced columns\n",
    "feature_columns = df.select(df.columns[start_idx:end_idx+1 ]).columns"
   ]
  },
  {
   "cell_type": "code",
   "execution_count": 27,
   "metadata": {},
   "outputs": [
    {
     "data": {
      "text/html": [
       "<div><style>\n",
       ".dataframe > thead > tr,\n",
       ".dataframe > tbody > tr {\n",
       "  text-align: right;\n",
       "  white-space: pre-wrap;\n",
       "}\n",
       "</style>\n",
       "<small>shape: (3, 103)</small><table border=\"1\" class=\"dataframe\"><thead><tr><th>mr</th><th>patient_id</th><th>chunk_number</th><th>frame_nr</th><th>create_date</th><th>date</th><th>visit_date</th><th>time_point</th><th>label</th><th>chunks_count</th><th>euthymia</th><th>depression</th><th>mania</th><th>mixed</th><th>confidence_gauss</th><th>confidence_linear</th><th>confidence_constant</th><th>pcm_LOGenergy_sma</th><th>pcm_zcr_sma</th><th>voiceprob_sma</th><th>f0_sma</th><th>f0env_sma</th><th>pcm_fftMag_fband0-250_sma</th><th>pcm_fftMag_fband0-650_sma</th><th>pcm_fftMag_spectralRollOff25_0_sma</th><th>pcm_fftMag_spectralRollOff50_0_sma</th><th>pcm_fftMag_spectralRollOff75_0_sma</th><th>pcm_fftMag_spectralRollOff90_0_sma</th><th>pcm_fftmag_spectralflux_sma</th><th>pcm_fftmag_spectralcentroid_sma</th><th>pcm_fftmag_spectralmaxpos_sma</th><th>pcm_fftmag_spectralminpos_sma</th><th>f0final_sma</th><th>voicingfinalunclipped_sma</th><th>jitterlocal_sma</th><th>jitterddp_sma</th><th>shimmerlocal_sma</th><th>&hellip;</th><th>audSpec_Rfilt_sma_compare_25_</th><th>pcm_fftMag_fband250-650_sma_compare</th><th>pcm_fftMag_fband1000-4000_sma_compare</th><th>pcm_fftmag_spectralentropy_sma_compare</th><th>pcm_fftmag_spectralvariance_sma_compare</th><th>pcm_fftmag_spectralskewness_sma_compare</th><th>pcm_fftmag_spectralkurtosis_sma_compare</th><th>pcm_fftmag_psysharpness_sma_compare</th><th>pcm_fftmag_spectralharmonicity_sma_compare</th><th>loudness_sma3</th><th>alpharatio_sma3</th><th>hammarbergindex_sma3</th><th>slope0-500_sma3</th><th>slope500-1500_sma3</th><th>F0semitoneFrom27_5Hz_sma3nz</th><th>logRelF0-H1-H2_sma3nz</th><th>logRelF0-H1-A3_sma3nz</th><th>f1frequency_sma3nz</th><th>f1bandwidth_sma3nz</th><th>f1amplitudelogrelf0_sma3nz</th><th>f2frequency_sma3nz</th><th>f2amplitudelogrelf0_sma3nz</th><th>f3frequency_sma3nz</th><th>f3amplitudelogrelf0_sma3nz</th><th>pcm_fftMag_mfcc_0_</th><th>pcm_fftMag_mfcc_1_</th><th>pcm_fftMag_mfcc_2_</th><th>pcm_fftMag_mfcc_3_</th><th>pcm_fftMag_mfcc_4_</th><th>pcm_fftMag_mfcc_5_</th><th>pcm_fftMag_mfcc_6_</th><th>pcm_fftMag_mfcc_7_</th><th>pcm_fftMag_mfcc_8_</th><th>pcm_fftMag_mfcc_9_</th><th>pcm_fftMag_mfcc_10_</th><th>pcm_fftMag_mfcc_11_</th><th>pcm_fftMag_mfcc_12_</th></tr><tr><td>i64</td><td>i64</td><td>i64</td><td>i64</td><td>str</td><td>str</td><td>str</td><td>i64</td><td>str</td><td>i64</td><td>i64</td><td>i64</td><td>i64</td><td>i64</td><td>f64</td><td>f64</td><td>i64</td><td>f64</td><td>f64</td><td>f64</td><td>i64</td><td>i64</td><td>f64</td><td>f64</td><td>f64</td><td>f64</td><td>f64</td><td>f64</td><td>f64</td><td>f64</td><td>f64</td><td>f64</td><td>i64</td><td>i64</td><td>i64</td><td>i64</td><td>i64</td><td>&hellip;</td><td>f64</td><td>f64</td><td>f64</td><td>f64</td><td>f64</td><td>f64</td><td>f64</td><td>f64</td><td>f64</td><td>f64</td><td>f64</td><td>f64</td><td>f64</td><td>f64</td><td>i64</td><td>i64</td><td>i64</td><td>f64</td><td>f64</td><td>i64</td><td>f64</td><td>i64</td><td>f64</td><td>i64</td><td>f64</td><td>f64</td><td>f64</td><td>f64</td><td>f64</td><td>f64</td><td>f64</td><td>f64</td><td>f64</td><td>f64</td><td>f64</td><td>f64</td><td>f64</td></tr></thead><tbody><tr><td>5857</td><td>1472</td><td>0</td><td>1</td><td>&quot;2018-03-21 14:19:29&quot;</td><td>&quot;2018-03-21&quot;</td><td>&quot;2018-03-28&quot;</td><td>-7</td><td>&quot;mixed&quot;</td><td>3</td><td>0</td><td>0</td><td>0</td><td>1</td><td>2.2897e-11</td><td>0.3</td><td>1</td><td>-41.58871</td><td>0.99</td><td>0.0</td><td>0</td><td>0</td><td>0.0</td><td>0.0</td><td>31.25</td><td>31.25</td><td>31.25</td><td>31.25</td><td>0.0</td><td>0.0</td><td>31.25</td><td>31.25</td><td>0</td><td>0</td><td>0</td><td>0</td><td>0</td><td>&hellip;</td><td>1.448623</td><td>0.0</td><td>0.0</td><td>0.000002</td><td>0.0</td><td>0.0</td><td>0.0</td><td>0.0</td><td>0.0</td><td>0.001017</td><td>0.0</td><td>0.0</td><td>0.112</td><td>0.076364</td><td>0</td><td>0</td><td>0</td><td>0.0</td><td>0.0</td><td>-201</td><td>0.0</td><td>-201</td><td>0.0</td><td>-201</td><td>0.0</td><td>0.0</td><td>0.0</td><td>0.0</td><td>0.0</td><td>0.0</td><td>0.0</td><td>0.0</td><td>0.0</td><td>0.0</td><td>0.0</td><td>0.0</td><td>0.0</td></tr><tr><td>5857</td><td>1472</td><td>0</td><td>2</td><td>&quot;2018-03-21 14:19:29&quot;</td><td>&quot;2018-03-21&quot;</td><td>&quot;2018-03-28&quot;</td><td>-7</td><td>&quot;mixed&quot;</td><td>3</td><td>0</td><td>0</td><td>0</td><td>1</td><td>2.2897e-11</td><td>0.3</td><td>1</td><td>-41.58871</td><td>0.99</td><td>0.0</td><td>0</td><td>0</td><td>0.0</td><td>0.0</td><td>31.25</td><td>31.25</td><td>31.25</td><td>31.25</td><td>0.0</td><td>0.0</td><td>31.25</td><td>31.25</td><td>0</td><td>0</td><td>0</td><td>0</td><td>0</td><td>&hellip;</td><td>1.448623</td><td>0.0</td><td>0.0</td><td>0.000002</td><td>0.0</td><td>0.0</td><td>0.0</td><td>0.0</td><td>0.0</td><td>0.001017</td><td>0.0</td><td>0.0</td><td>0.112</td><td>0.076364</td><td>0</td><td>0</td><td>0</td><td>0.0</td><td>0.0</td><td>-201</td><td>0.0</td><td>-201</td><td>0.0</td><td>-201</td><td>0.0</td><td>0.0</td><td>0.0</td><td>0.0</td><td>0.0</td><td>0.0</td><td>0.0</td><td>0.0</td><td>0.0</td><td>0.0</td><td>0.0</td><td>0.0</td><td>0.0</td></tr><tr><td>5857</td><td>1472</td><td>0</td><td>3</td><td>&quot;2018-03-21 14:19:29&quot;</td><td>&quot;2018-03-21&quot;</td><td>&quot;2018-03-28&quot;</td><td>-7</td><td>&quot;mixed&quot;</td><td>3</td><td>0</td><td>0</td><td>0</td><td>1</td><td>2.2897e-11</td><td>0.3</td><td>1</td><td>-41.58871</td><td>0.99</td><td>0.0</td><td>0</td><td>0</td><td>0.0</td><td>0.0</td><td>31.25</td><td>31.25</td><td>31.25</td><td>31.25</td><td>0.0</td><td>0.0</td><td>31.25</td><td>31.25</td><td>0</td><td>0</td><td>0</td><td>0</td><td>0</td><td>&hellip;</td><td>1.448623</td><td>0.0</td><td>0.0</td><td>0.000002</td><td>0.0</td><td>0.0</td><td>0.0</td><td>0.0</td><td>0.0</td><td>0.001017</td><td>0.0</td><td>0.0</td><td>0.112</td><td>0.076364</td><td>0</td><td>0</td><td>0</td><td>0.0</td><td>0.0</td><td>-201</td><td>0.0</td><td>-201</td><td>0.0</td><td>-201</td><td>0.0</td><td>0.0</td><td>0.0</td><td>0.0</td><td>0.0</td><td>0.0</td><td>0.0</td><td>0.0</td><td>0.0</td><td>0.0</td><td>0.0</td><td>0.0</td><td>0.0</td></tr></tbody></table></div>"
      ],
      "text/plain": [
       "shape: (3, 103)\n",
       "┌──────┬────────────┬────────────┬──────────┬───┬────────────┬────────────┬────────────┬───────────┐\n",
       "│ mr   ┆ patient_id ┆ chunk_numb ┆ frame_nr ┆ … ┆ pcm_fftMag ┆ pcm_fftMag ┆ pcm_fftMag ┆ pcm_fftMa │\n",
       "│ ---  ┆ ---        ┆ er         ┆ ---      ┆   ┆ _mfcc_9_   ┆ _mfcc_10_  ┆ _mfcc_11_  ┆ g_mfcc_12 │\n",
       "│ i64  ┆ i64        ┆ ---        ┆ i64      ┆   ┆ ---        ┆ ---        ┆ ---        ┆ _         │\n",
       "│      ┆            ┆ i64        ┆          ┆   ┆ f64        ┆ f64        ┆ f64        ┆ ---       │\n",
       "│      ┆            ┆            ┆          ┆   ┆            ┆            ┆            ┆ f64       │\n",
       "╞══════╪════════════╪════════════╪══════════╪═══╪════════════╪════════════╪════════════╪═══════════╡\n",
       "│ 5857 ┆ 1472       ┆ 0          ┆ 1        ┆ … ┆ 0.0        ┆ 0.0        ┆ 0.0        ┆ 0.0       │\n",
       "│ 5857 ┆ 1472       ┆ 0          ┆ 2        ┆ … ┆ 0.0        ┆ 0.0        ┆ 0.0        ┆ 0.0       │\n",
       "│ 5857 ┆ 1472       ┆ 0          ┆ 3        ┆ … ┆ 0.0        ┆ 0.0        ┆ 0.0        ┆ 0.0       │\n",
       "└──────┴────────────┴────────────┴──────────┴───┴────────────┴────────────┴────────────┴───────────┘"
      ]
     },
     "execution_count": 27,
     "metadata": {},
     "output_type": "execute_result"
    }
   ],
   "source": [
    "df.head(3)"
   ]
  },
  {
   "cell_type": "code",
   "execution_count": 48,
   "metadata": {},
   "outputs": [],
   "source": [
    "train = df.filter(pl.col('time_point') != 0)\n",
    "test = df.filter(pl.col('time_point') == 0)\n",
    "\n",
    "# X_train = train.select(feature_columns)\n",
    "# X_test = test.select(feature_columns)\n",
    "# X_train_weight = train.select('confidence_gauss')\n",
    "# X_test_weight = test.select('confidence_gauss')\n",
    "\n",
    "# y_train_int = train.select('label')\n",
    "# y_test_int= test.select('label')"
   ]
  },
  {
   "cell_type": "code",
   "execution_count": 49,
   "metadata": {},
   "outputs": [],
   "source": [
    "grouped_train = train.partition_by('mr')\n",
    "grouped_test = test.partition_by('mr')"
   ]
  },
  {
   "cell_type": "code",
   "execution_count": 53,
   "metadata": {},
   "outputs": [
    {
     "data": {
      "text/plain": [
       "[shape: (1,)\n",
       " Series: 'confidence_linear' [f64]\n",
       " [\n",
       " \t0.3\n",
       " ]]"
      ]
     },
     "execution_count": 53,
     "metadata": {},
     "output_type": "execute_result"
    }
   ],
   "source": [
    "train_weight"
   ]
  },
  {
   "cell_type": "code",
   "execution_count": 54,
   "metadata": {},
   "outputs": [],
   "source": [
    "train_arrays = []\n",
    "train_y = []\n",
    "train_weight = []\n",
    "max_frames = 2000  # Desired number of frames per conversation\n",
    "\n",
    "for group in grouped_train:\n",
    "    # Sort frames\n",
    "    group_sorted = group.sort('frame_nr')  # or 'chunk_number'\n",
    "    features = group_sorted.select(feature_columns).to_numpy()\n",
    "\n",
    "    # Handle variable frame lengths\n",
    "    num_frames = features.shape[0]\n",
    "    if num_frames > max_frames:\n",
    "        # Truncate\n",
    "        features = features[:max_frames, :]\n",
    "    elif num_frames < max_frames:\n",
    "        # Pad with zeros\n",
    "        padding = np.zeros((max_frames - num_frames, features.shape[1]))\n",
    "        features = np.vstack((features, padding))\n",
    "\n",
    "    train_arrays.append(features)\n",
    "    train_y.append(group_sorted[\"label\"].explode().unique())\n",
    "    train_weight.append(group_sorted[\"confidence_linear\"].explode().unique())"
   ]
  },
  {
   "cell_type": "code",
   "execution_count": 55,
   "metadata": {},
   "outputs": [],
   "source": [
    "test_arrays = []\n",
    "test_y = []\n",
    "test_weight = []\n",
    "max_frames = 2000  # Desired number of frames per conversation\n",
    "\n",
    "for group in grouped_test:\n",
    "    # Sort frames\n",
    "    group_sorted = group.sort('frame_nr')  # or 'chunk_number'\n",
    "\n",
    "    # Extract feature values as a NumPy array\n",
    "    features = group_sorted.select(feature_columns).to_numpy()\n",
    "\n",
    "    # Handle variable frame lengths\n",
    "    num_frames = features.shape[0]\n",
    "    if num_frames > max_frames:\n",
    "        # Truncate\n",
    "        features = features[:max_frames, :]\n",
    "    elif num_frames < max_frames:\n",
    "        # Pad with zeros\n",
    "        padding = np.zeros((max_frames - num_frames, features.shape[1]))\n",
    "        features = np.vstack((features, padding))\n",
    "\n",
    "    test_arrays.append(features)\n",
    "    test_y.append(group_sorted[\"label\"].explode().unique())\n",
    "    test_weight.append(group_sorted[\"confidence_linear\"].explode().unique())"
   ]
  },
  {
   "cell_type": "code",
   "execution_count": 56,
   "metadata": {},
   "outputs": [],
   "source": [
    "# Final input array of shape (num_conversations, max_frames, num_features)\n",
    "X_train = np.stack(train_arrays)\n",
    "X_test = np.stack(test_arrays)"
   ]
  },
  {
   "cell_type": "code",
   "execution_count": 72,
   "metadata": {},
   "outputs": [
    {
     "data": {
      "text/plain": [
       "array([['mixed'],\n",
       "       ['mixed'],\n",
       "       ['mixed'],\n",
       "       ...,\n",
       "       ['depression'],\n",
       "       ['depression'],\n",
       "       ['depression']], dtype='<U10')"
      ]
     },
     "execution_count": 72,
     "metadata": {},
     "output_type": "execute_result"
    }
   ],
   "source": [
    "Y_train = np.stack(train_y)\n",
    "Y_test = np.stack(test_y)\n",
    "Y_train"
   ]
  },
  {
   "cell_type": "code",
   "execution_count": 73,
   "metadata": {},
   "outputs": [
    {
     "data": {
      "text/plain": [
       "array([[3],\n",
       "       [3],\n",
       "       [3],\n",
       "       ...,\n",
       "       [1],\n",
       "       [1],\n",
       "       [1]])"
      ]
     },
     "execution_count": 73,
     "metadata": {},
     "output_type": "execute_result"
    }
   ],
   "source": [
    "label_mapping = {\n",
    "    'euthymia': 0,\n",
    "    'depression': 1,\n",
    "    'mania': 2,\n",
    "    'mixed': 3\n",
    "}\n",
    "\n",
    "vectorized_mapping = np.vectorize(label_mapping.get)\n",
    "Y_train = vectorized_mapping(Y_train)\n",
    "Y_test = vectorized_mapping(Y_test)\n",
    "Y_train\n",
    "#Y_train = np.array([label_mapping[label] for label in Y_train])"
   ]
  },
  {
   "cell_type": "code",
   "execution_count": 61,
   "metadata": {},
   "outputs": [],
   "source": [
    "X_train_weight = np.stack(train_weight)\n",
    "X_test_weight = np.stack(test_weight)"
   ]
  },
  {
   "cell_type": "code",
   "execution_count": 89,
   "metadata": {},
   "outputs": [],
   "source": [
    "# Convert integer labels to one-hot encoded vectors\n",
    "Y_train = to_categorical(Y_train, num_classes=4)\n",
    "Y_test = to_categorical(Y_test, num_classes=4)\n",
    "\n"
   ]
  },
  {
   "cell_type": "code",
   "execution_count": 80,
   "metadata": {},
   "outputs": [
    {
     "data": {
      "text/plain": [
       "array([[3],\n",
       "       [3],\n",
       "       [3],\n",
       "       ...,\n",
       "       [1],\n",
       "       [1],\n",
       "       [1]])"
      ]
     },
     "execution_count": 80,
     "metadata": {},
     "output_type": "execute_result"
    }
   ],
   "source": [
    "Y_train"
   ]
  },
  {
   "cell_type": "code",
   "execution_count": 76,
   "metadata": {},
   "outputs": [
    {
     "data": {
      "text/plain": [
       "array([[[-4.158871e+01,  9.900000e-01,  0.000000e+00, ...,\n",
       "          0.000000e+00,  0.000000e+00,  0.000000e+00],\n",
       "        [-4.158871e+01,  9.900000e-01,  0.000000e+00, ...,\n",
       "          0.000000e+00,  0.000000e+00,  0.000000e+00],\n",
       "        [-4.158871e+01,  9.900000e-01,  0.000000e+00, ...,\n",
       "          0.000000e+00,  0.000000e+00,  0.000000e+00],\n",
       "        ...,\n",
       "        [-2.212170e+01,  2.950000e-01,  2.838966e-01, ...,\n",
       "          5.166525e+00,  6.207182e-01,  3.173641e+01],\n",
       "        [-2.221821e+01,  2.733333e-01,  2.940682e-01, ...,\n",
       "          3.346417e+00, -6.015238e+00,  3.365155e+01],\n",
       "        [-2.214262e+01,  2.816667e-01,  2.470831e-01, ...,\n",
       "         -1.644218e+01, -1.083421e-01,  3.664929e+01]],\n",
       "\n",
       "       [[-4.158871e+01,  9.900000e-01,  0.000000e+00, ...,\n",
       "          0.000000e+00,  0.000000e+00,  0.000000e+00],\n",
       "        [-4.158871e+01,  9.900000e-01,  0.000000e+00, ...,\n",
       "          0.000000e+00,  0.000000e+00,  0.000000e+00],\n",
       "        [-4.158871e+01,  9.900000e-01,  0.000000e+00, ...,\n",
       "          0.000000e+00,  0.000000e+00,  0.000000e+00],\n",
       "        ...,\n",
       "        [ 0.000000e+00,  0.000000e+00,  0.000000e+00, ...,\n",
       "          0.000000e+00,  0.000000e+00,  0.000000e+00],\n",
       "        [ 0.000000e+00,  0.000000e+00,  0.000000e+00, ...,\n",
       "          0.000000e+00,  0.000000e+00,  0.000000e+00],\n",
       "        [ 0.000000e+00,  0.000000e+00,  0.000000e+00, ...,\n",
       "          0.000000e+00,  0.000000e+00,  0.000000e+00]],\n",
       "\n",
       "       [[-4.158871e+01,  9.900000e-01,  0.000000e+00, ...,\n",
       "          0.000000e+00,  0.000000e+00,  0.000000e+00],\n",
       "        [-4.158871e+01,  9.900000e-01,  0.000000e+00, ...,\n",
       "          0.000000e+00,  0.000000e+00,  0.000000e+00],\n",
       "        [-4.158871e+01,  9.900000e-01,  0.000000e+00, ...,\n",
       "          0.000000e+00,  0.000000e+00,  0.000000e+00],\n",
       "        ...,\n",
       "        [-2.431219e+01,  8.533333e-01,  1.932058e-01, ...,\n",
       "          2.741713e+00, -5.968403e+00,  1.388390e+01],\n",
       "        [-2.433066e+01,  8.816667e-01,  2.006585e-01, ...,\n",
       "          4.556623e+00,  7.496472e+00,  2.211809e+01],\n",
       "        [-2.444070e+01,  8.883333e-01,  1.855027e-01, ...,\n",
       "          5.904886e+00,  1.868972e-01,  1.253908e+01]],\n",
       "\n",
       "       ...,\n",
       "\n",
       "       [[-3.617957e+01,  9.633334e-01,  5.051876e-02, ...,\n",
       "         -9.594576e+00, -5.797641e+00,  1.668796e+01],\n",
       "        [-3.617957e+01,  9.633334e-01,  5.051876e-02, ...,\n",
       "         -9.594576e+00, -5.797641e+00,  1.668796e+01],\n",
       "        [-2.980360e+01,  8.866667e-01,  1.159137e-01, ...,\n",
       "          1.001270e+00, -1.826632e-01,  2.843223e+01],\n",
       "        ...,\n",
       "        [-1.676606e+01,  5.550000e-01,  3.474098e-01, ...,\n",
       "         -1.630072e+00, -8.175055e+00,  5.579778e+01],\n",
       "        [-1.687962e+01,  5.599999e-01,  2.618560e-01, ...,\n",
       "         -4.801734e+00, -5.412679e+00,  5.249426e+01],\n",
       "        [-1.687962e+01,  5.599999e-01,  2.618560e-01, ...,\n",
       "         -4.801734e+00, -5.412679e+00,  5.249426e+01]],\n",
       "\n",
       "       [[-1.242891e+01,  2.566667e-01,  2.517616e-01, ...,\n",
       "         -4.241716e+00,  2.038420e+00,  9.837595e+01],\n",
       "        [-1.226394e+01,  3.066667e-01,  2.860438e-01, ...,\n",
       "         -1.148313e+01, -8.628343e-01,  9.864880e+01],\n",
       "        [-1.214831e+01,  3.533334e-01,  3.020596e-01, ...,\n",
       "         -2.880134e+01, -9.395112e+00,  9.818108e+01],\n",
       "        ...,\n",
       "        [-1.010345e+01,  9.666666e-02,  2.996756e-01, ...,\n",
       "         -5.329814e+00,  1.902761e+00,  1.113449e+02],\n",
       "        [-1.002661e+01,  9.666666e-02,  3.397830e-01, ...,\n",
       "          4.311605e+00,  2.604145e+01,  1.070071e+02],\n",
       "        [-1.037153e+01,  9.833333e-02,  3.747277e-01, ...,\n",
       "         -3.699317e+00, -6.483280e+00,  1.084457e+02]],\n",
       "\n",
       "       [[-1.160553e+01,  2.366667e-01,  2.632001e-01, ...,\n",
       "         -1.207963e+01,  1.419042e+00,  1.077083e+02],\n",
       "        [-1.144635e+01,  2.916667e-01,  2.818802e-01, ...,\n",
       "          8.460588e+00, -2.451793e+00,  1.062285e+02],\n",
       "        [-1.126515e+01,  3.500000e-01,  3.091923e-01, ...,\n",
       "         -1.000728e+01, -1.133746e+01,  1.064069e+02],\n",
       "        ...,\n",
       "        [ 0.000000e+00,  0.000000e+00,  0.000000e+00, ...,\n",
       "          0.000000e+00,  0.000000e+00,  0.000000e+00],\n",
       "        [ 0.000000e+00,  0.000000e+00,  0.000000e+00, ...,\n",
       "          0.000000e+00,  0.000000e+00,  0.000000e+00],\n",
       "        [ 0.000000e+00,  0.000000e+00,  0.000000e+00, ...,\n",
       "          0.000000e+00,  0.000000e+00,  0.000000e+00]]])"
      ]
     },
     "execution_count": 76,
     "metadata": {},
     "output_type": "execute_result"
    }
   ],
   "source": [
    "X_train"
   ]
  },
  {
   "cell_type": "code",
   "execution_count": 82,
   "metadata": {},
   "outputs": [],
   "source": [
    "scaler = StandardScaler()\n",
    "#X_train\n",
    "X_train_scaled_flat = X_train.reshape(-1, X_train.shape[-1])\n",
    "X_train_scaled_flat =  scaler.fit_transform(X_train_scaled_flat)\n",
    "X_train_scaled = X_train_scaled_flat.reshape(X_train.shape)\n",
    "\n",
    "#X_test\n",
    "X_test_scaled_flat = X_test.reshape(-1, X_test.shape[-1])\n",
    "X_test_scaled_flat =  scaler.fit_transform(X_test_scaled_flat)\n",
    "X_test_scaled = X_test_scaled_flat.reshape(X_test.shape)\n",
    "\n",
    "#Y_train_flat = Y_train.reshape(-1)\n",
    "#Y_test_flat = Y_test.reshape(-1)\n",
    "\n",
    "Y_train_flat = np.repeat(Y_train, X_train.shape[1])  # X_train.shape[1] = 1000\n",
    "Y_test_flat = np.repeat(Y_test, X_test.shape[1])"
   ]
  },
  {
   "cell_type": "code",
   "execution_count": null,
   "metadata": {},
   "outputs": [],
   "source": [
    "# Flatten X_train and X_test\n",
    "# X_train shape: (1418, 1000, 86) -> (1418000, 86)\n",
    "# X_train_flat = X_train.reshape(-1, X_train.shape[-1])\n",
    "# X_test_flat = X_test.reshape(-1, X_test.shape[-1])\n",
    "\n",
    "# Scale the flattened X data\n",
    "# scaler_X = StandardScaler()\n",
    "# X_train_scaled_flat = scaler_X.fit_transform(X_train_flat)\n",
    "# X_test_scaled_flat = scaler_X.transform(X_test_flat)\n",
    "\n",
    "# # Flatten y_train_int and y_test_int\n",
    "# # Assuming y_train_int shape: (1418, 1000) -> (1418000,)\n",
    "# y_train_flat = y_train_int.reshape(-1)\n",
    "# y_test_flat = y_test_int.reshape(-1)\n",
    "\n",
    "# # Reshape y to 2D arrays for scaling\n",
    "# y_train_flat = y_train_flat.reshape(-1, 1)\n",
    "# y_test_flat = y_test_flat.reshape(-1, 1)\n",
    "\n",
    "# # Scale y values\n",
    "# scaler_y = StandardScaler()\n",
    "# y_train_scaled_flat = scaler_y.fit_transform(y_train_flat)\n",
    "# y_test_scaled_flat = scaler_y.transform(y_test_flat)\n",
    "\n",
    "# # Optionally, flatten y back to 1D arrays (if needed)\n",
    "# y_train_scaled_flat = y_train_scaled_flat.flatten()\n",
    "# y_test_scaled_flat = y_test_scaled_flat.flatten()\n",
    "\n",
    "# y_train_flat = np.repeat(y_train_int, X_train.shape[1])  # X_train.shape[1] = 1000\n",
    "# y_test_flat = np.repeat(y_test_int, X_test.shape[1])\n",
    "\n",
    "# # Reshape y to 2D arrays for scaling\n",
    "# y_train_flat = y_train_flat.reshape(-1, 1)\n",
    "# y_test_flat = y_test_flat.reshape(-1, 1)\n",
    "\n",
    "# # Flatten and scale training data\n",
    "# X_train_flat = X_train.reshape(-1, X_train.shape[-1])\n",
    "# scaler = StandardScaler()\n",
    "# X_train_scaled_flat = scaler.fit_transform(X_train_flat)\n",
    "# X_train_scaled = X_train_scaled_flat.reshape(X_train.shape)\n",
    "\n",
    "# # Flatten and scale test data\n",
    "# X_test_flat = X_test.reshape(-1, X_test.shape[-1])\n",
    "# X_test_scaled_flat = scaler.transform(X_test_flat)\n",
    "# X_test_scaled = X_test_scaled_flat.reshape(X_test.shape)"
   ]
  },
  {
   "cell_type": "code",
   "execution_count": 75,
   "metadata": {},
   "outputs": [
    {
     "data": {
      "text/plain": [
       "86"
      ]
     },
     "execution_count": 75,
     "metadata": {},
     "output_type": "execute_result"
    }
   ],
   "source": [
    "num_features = X_train.shape[2]\n",
    "num_classes = 4\n",
    "num_features"
   ]
  },
  {
   "cell_type": "markdown",
   "metadata": {},
   "source": [
    "## CNN"
   ]
  },
  {
   "cell_type": "markdown",
   "metadata": {},
   "source": [
    "## CNN + LSTM"
   ]
  },
  {
   "cell_type": "code",
   "execution_count": 84,
   "metadata": {},
   "outputs": [],
   "source": [
    "from tensorflow.keras.models import Sequential\n",
    "from tensorflow.keras.layers import Conv1D, MaxPooling1D, LSTM, Dense, Dropout,Flatten\n",
    "\n",
    "# Budowa modelu CNN + LSTM\n",
    "model = Sequential()\n",
    "\n",
    "# Convolutional layers to extract local features\n",
    "model.add(Conv1D(filters=64, kernel_size=3, activation='relu',\n",
    "                 input_shape=(max_frames, num_features)))\n",
    "model.add(MaxPooling1D(pool_size=2))\n",
    "model.add(Conv1D(filters=128, kernel_size=3, activation='relu'))\n",
    "model.add(MaxPooling1D(pool_size=2))\n",
    "\n",
    "# LSTM layer to capture temporal dependencies\n",
    "model.add(LSTM(64))\n",
    "\n",
    "# Fully connected layers\n",
    "model.add(Dense(64, activation='relu'))\n",
    "model.add(Dropout(0.5))\n",
    "\n",
    "# Output layer\n",
    "model.add(Dense(num_classes, activation='softmax'))\n",
    "\n"
   ]
  },
  {
   "cell_type": "code",
   "execution_count": 90,
   "metadata": {},
   "outputs": [
    {
     "name": "stdout",
     "output_type": "stream",
     "text": [
      "Epoch 1/10\n",
      "87/87 [==============================] - 38s 411ms/step - loss: 0.5679 - accuracy: 0.3852 - val_loss: 1.1634 - val_accuracy: 0.3708\n",
      "Epoch 2/10\n",
      "87/87 [==============================] - 35s 406ms/step - loss: 0.5146 - accuracy: 0.4189 - val_loss: 1.1787 - val_accuracy: 0.4178\n",
      "Epoch 3/10\n",
      "87/87 [==============================] - 36s 417ms/step - loss: 0.5039 - accuracy: 0.4287 - val_loss: 1.1857 - val_accuracy: 0.4073\n",
      "Epoch 4/10\n",
      "87/87 [==============================] - 35s 407ms/step - loss: 0.4919 - accuracy: 0.4334 - val_loss: 1.2044 - val_accuracy: 0.3681\n",
      "Epoch 5/10\n",
      "87/87 [==============================] - 35s 406ms/step - loss: 0.4794 - accuracy: 0.4573 - val_loss: 1.1818 - val_accuracy: 0.4047\n",
      "Epoch 6/10\n",
      "87/87 [==============================] - 36s 408ms/step - loss: 0.4526 - accuracy: 0.4479 - val_loss: 1.3440 - val_accuracy: 0.3838\n",
      "Epoch 7/10\n",
      "87/87 [==============================] - 35s 408ms/step - loss: 0.4458 - accuracy: 0.4815 - val_loss: 1.2241 - val_accuracy: 0.4334\n",
      "Epoch 8/10\n",
      "87/87 [==============================] - 35s 408ms/step - loss: 0.4390 - accuracy: 0.4678 - val_loss: 1.2218 - val_accuracy: 0.4308\n",
      "Epoch 9/10\n",
      "87/87 [==============================] - 35s 408ms/step - loss: 0.4290 - accuracy: 0.4906 - val_loss: 1.3376 - val_accuracy: 0.4125\n",
      "Epoch 10/10\n",
      "87/87 [==============================] - 35s 407ms/step - loss: 0.4047 - accuracy: 0.4902 - val_loss: 1.2801 - val_accuracy: 0.3916\n"
     ]
    }
   ],
   "source": [
    "model.compile(optimizer='adam', loss='categorical_crossentropy', metrics=['accuracy'])\n",
    "early_stopping = EarlyStopping(monitor='val_loss', patience=10, restore_best_weights=True)\n",
    "history = model.fit(\n",
    "    X_train_scaled, Y_train,\n",
    "    epochs=10,\n",
    "    batch_size=32,\n",
    "    validation_data=(X_test_scaled, Y_test),\n",
    "    callbacks=[early_stopping],\n",
    "    sample_weight = X_train_weight      \n",
    ")"
   ]
  },
  {
   "cell_type": "code",
   "execution_count": 91,
   "metadata": {},
   "outputs": [
    {
     "name": "stdout",
     "output_type": "stream",
     "text": [
      "12/12 [==============================] - 1s 99ms/step - loss: 1.2801 - accuracy: 0.3916\n",
      "Test Loss: 1.2801\n",
      "Test Accuracy: 0.3916\n"
     ]
    }
   ],
   "source": [
    "test_loss, test_accuracy = model.evaluate(X_test_scaled, Y_test)\n",
    "print(f'Test Loss: {test_loss:.4f}')\n",
    "print(f'Test Accuracy: {test_accuracy:.4f}')"
   ]
  },
  {
   "cell_type": "code",
   "execution_count": 92,
   "metadata": {},
   "outputs": [
    {
     "name": "stdout",
     "output_type": "stream",
     "text": [
      "Epoch 1/10\n",
      "87/87 [==============================] - 40s 428ms/step - loss: 0.9811 - accuracy: 0.5746 - val_loss: 1.1033 - val_accuracy: 0.4935\n",
      "Epoch 2/10\n",
      "87/87 [==============================] - 36s 409ms/step - loss: 0.9076 - accuracy: 0.6169 - val_loss: 1.0405 - val_accuracy: 0.5614\n",
      "Epoch 3/10\n",
      "87/87 [==============================] - 35s 407ms/step - loss: 0.8812 - accuracy: 0.6322 - val_loss: 1.0421 - val_accuracy: 0.5326\n",
      "Epoch 4/10\n",
      "87/87 [==============================] - 36s 409ms/step - loss: 0.8461 - accuracy: 0.6513 - val_loss: 1.0363 - val_accuracy: 0.5796\n",
      "Epoch 5/10\n",
      "87/87 [==============================] - 35s 406ms/step - loss: 0.8081 - accuracy: 0.6673 - val_loss: 1.1121 - val_accuracy: 0.5300\n",
      "Epoch 6/10\n",
      "87/87 [==============================] - 36s 408ms/step - loss: 0.7702 - accuracy: 0.6904 - val_loss: 1.0870 - val_accuracy: 0.5509\n",
      "Epoch 7/10\n",
      "87/87 [==============================] - 35s 407ms/step - loss: 0.7523 - accuracy: 0.6970 - val_loss: 0.9619 - val_accuracy: 0.6188\n",
      "Epoch 8/10\n",
      "87/87 [==============================] - 35s 408ms/step - loss: 0.7132 - accuracy: 0.7165 - val_loss: 0.9729 - val_accuracy: 0.6319\n",
      "Epoch 9/10\n",
      "87/87 [==============================] - 36s 410ms/step - loss: 0.6950 - accuracy: 0.7299 - val_loss: 1.0449 - val_accuracy: 0.5901\n",
      "Epoch 10/10\n",
      "87/87 [==============================] - 36s 410ms/step - loss: 0.7034 - accuracy: 0.7346 - val_loss: 1.0489 - val_accuracy: 0.6005\n",
      "12/12 [==============================] - 1s 103ms/step - loss: 1.0489 - accuracy: 0.6005\n",
      "Test Loss: 1.0489\n",
      "Test Accuracy: 0.6005\n"
     ]
    }
   ],
   "source": [
    "model.compile(optimizer='adam', loss='categorical_crossentropy', metrics=['accuracy'])\n",
    "early_stopping = EarlyStopping(monitor='val_loss', patience=10, restore_best_weights=True)\n",
    "history = model.fit(\n",
    "    X_train_scaled, Y_train,\n",
    "    epochs=10,\n",
    "    batch_size=32,\n",
    "    validation_data=(X_test_scaled, Y_test),\n",
    "    callbacks=[early_stopping]   \n",
    ")\n",
    "test_loss, test_accuracy = model.evaluate(X_test_scaled, Y_test)\n",
    "print(f'Test Loss: {test_loss:.4f}')\n",
    "print(f'Test Accuracy: {test_accuracy:.4f}')"
   ]
  },
  {
   "cell_type": "code",
   "execution_count": 37,
   "metadata": {},
   "outputs": [
    {
     "name": "stdout",
     "output_type": "stream",
     "text": [
      "12/12 [==============================] - 1s 57ms/step\n",
      "Confusion Matrix:\n",
      "[[23 31 27  0]\n",
      " [24 89 23  1]\n",
      " [23 11 56  1]\n",
      " [ 6  5  7 28]]\n"
     ]
    }
   ],
   "source": [
    "from sklearn.metrics import confusion_matrix, classification_report\n",
    "\n",
    "# Predict classes for the test set\n",
    "y_pred_probs = model.predict(X_test_scaled)\n",
    "y_pred_int = np.argmax(y_pred_probs, axis=1)\n",
    "\n",
    "# Confusion Matrix\n",
    "cm = confusion_matrix(y_test_int, y_pred_int)\n",
    "print('Confusion Matrix:')\n",
    "print(cm)"
   ]
  },
  {
   "cell_type": "code",
   "execution_count": 38,
   "metadata": {},
   "outputs": [
    {
     "name": "stdout",
     "output_type": "stream",
     "text": [
      "Classification Report:\n",
      "              precision    recall  f1-score   support\n",
      "\n",
      "    Euthymia       0.30      0.28      0.29        81\n",
      "  Depression       0.65      0.65      0.65       137\n",
      "       Mania       0.50      0.62      0.55        91\n",
      "       Mixed       0.93      0.61      0.74        46\n",
      "\n",
      "    accuracy                           0.55       355\n",
      "   macro avg       0.60      0.54      0.56       355\n",
      "weighted avg       0.57      0.55      0.55       355\n",
      "\n"
     ]
    }
   ],
   "source": [
    "report = classification_report(y_test_int, y_pred_int, target_names=['Euthymia', 'Depression', 'Mania', 'Mixed'])\n",
    "print('Classification Report:')\n",
    "print(report)"
   ]
  },
  {
   "cell_type": "markdown",
   "metadata": {},
   "source": [
    "## Ulepszanie sieci"
   ]
  },
  {
   "cell_type": "code",
   "execution_count": 39,
   "metadata": {},
   "outputs": [],
   "source": [
    "import os\n",
    "import random\n",
    "import numpy as np\n",
    "import tensorflow as tf\n",
    "\n",
    "# 1. Ustawienie zmiennych środowiskowych\n",
    "os.environ['PYTHONHASHSEED'] = '42'\n",
    "os.environ['TF_DETERMINISTIC_OPS'] = '1'\n",
    "\n",
    "# (Opcjonalnie) Wyłączenie GPU dla pełnej reprodukowalności\n",
    "# os.environ['CUDA_VISIBLE_DEVICES'] = '-1'\n",
    "\n",
    "# 2. Ustawienie ziarna dla modułu random\n",
    "random.seed(42)\n",
    "\n",
    "# 3. Ustawienie ziarna dla NumPy\n",
    "np.random.seed(42)\n",
    "\n",
    "# 4. Ustawienie ziarna dla TensorFlow\n",
    "tf.random.set_seed(42)\n",
    "\n",
    "# 5. Konfiguracja wątków w TensorFlow\n",
    "#tf.config.threading.set_inter_op_parallelism_threads(1)\n",
    "#tf.config.threading.set_intra_op_parallelism_threads(1)"
   ]
  },
  {
   "cell_type": "code",
   "execution_count": 40,
   "metadata": {},
   "outputs": [],
   "source": [
    "import tensorflow as tf\n",
    "from tensorflow.keras import regularizers\n",
    "from tensorflow.keras.callbacks import EarlyStopping\n",
    "import matplotlib.pyplot as plt\n",
    "\n",
    "# Przygotowanie danych (przykładowo)\n",
    "# Upewnij się, że zmienne X_train_scaled, y_train, X_test_scaled, y_test, max_frames, num_features, num_classes są zdefiniowane\n",
    "\n",
    "\n",
    "import tensorflow as tf\n",
    "\n",
    "tf.random.set_seed(42)\n",
    "\n",
    "\n",
    "early_stopping = EarlyStopping(monitor='val_loss', patience=10, restore_best_weights=True)\n",
    "\n",
    "def build_model_with_L2():\n",
    "    model = tf.keras.models.Sequential([\n",
    "        tf.keras.layers.Conv1D(filters=256, kernel_size=3, activation='relu', #tf.keras.layers.Conv1D(filters=128, kernel_size=3, activation='relu', \n",
    "                               input_shape=(max_frames, num_features),\n",
    "                               kernel_regularizer=regularizers.l2(0.02)), #kernel_regularizer=regularizers.l2(0.05)),\n",
    "        tf.keras.layers.MaxPooling1D(pool_size=2),\n",
    "        tf.keras.layers.Conv1D(filters=512, kernel_size=3, activation='relu', #tf.keras.layers.Conv1D(filters=256, kernel_size=3, activation='relu', \n",
    "                               kernel_regularizer=regularizers.l2(0.02)), #kernel_regularizer=regularizers.l2(0.05)),\n",
    "        tf.keras.layers.MaxPooling1D(pool_size=2),\n",
    "        tf.keras.layers.LSTM(128), #tf.keras.layers.LSTM(64),\n",
    "        tf.keras.layers.Dense(128, activation='relu', kernel_regularizer=regularizers.l2(0.02)), #tf.keras.layers.Dense(64, activation='relu', kernel_regularizer=regularizers.l2(0.05)),\n",
    "        tf.keras.layers.Dropout(0.5), #tf.keras.layers.Dropout(0.2),\n",
    "        tf.keras.layers.Dense(num_classes, activation='softmax')\n",
    "    ])\n",
    "    model.compile(optimizer='adam', loss='categorical_crossentropy', metrics=['accuracy'])\n",
    "    return model\n",
    "\n",
    "\n",
    "\n",
    "def build_model_with_Residual_CNN():\n",
    "    inputs = tf.keras.Input(shape=(max_frames, num_features))\n",
    "    \n",
    "    # Blok 1\n",
    "    x = tf.keras.layers.Conv1D(64, kernel_size=3, padding='same', activation='relu')(inputs) #x = tf.keras.layers.Conv1D(64, kernel_size=3, padding='same', activation='relu')(inputs)\n",
    "    x = tf.keras.layers.Conv1D(64, kernel_size=3, padding='same', activation='relu')(x) #x = tf.keras.layers.Conv1D(64, kernel_size=3, padding='same', activation='relu')(x)\n",
    "    x = tf.keras.layers.MaxPooling1D(pool_size=2)(x)\n",
    "    \n",
    "    residual = x  # Zapisujemy tensor do późniejszego użycia\n",
    "    \n",
    "    # Blok 2\n",
    "    x = tf.keras.layers.Conv1D(128, kernel_size=3, padding='same', activation='relu')(x) #x = tf.keras.layers.Conv1D(128, kernel_size=3, padding='same', activation='relu')(x)\n",
    "    x = tf.keras.layers.Conv1D(128, kernel_size=3, padding='same', activation='relu')(x) #x = tf.keras.layers.Conv1D(256, kernel_size=3, padding='same', activation='relu')(x)\n",
    "    \n",
    "    # Dostosowanie liczby kanałów w residual do x\n",
    "    residual = tf.keras.layers.Conv1D(128, kernel_size=1, padding='same')(residual) #residual = tf.keras.layers.Conv1D(128, kernel_size=1, padding='same')(residual)\n",
    "    \n",
    "    # Dodanie połączenia resztkowego\n",
    "    x = tf.keras.layers.Add()([x, residual])\n",
    "    x = tf.keras.layers.Activation('relu')(x)  # Opcjonalnie dodaj aktywację po dodaniu\n",
    "    x = tf.keras.layers.MaxPooling1D(pool_size=2)(x)\n",
    "    \n",
    "    # Blok końcowy\n",
    "    x = tf.keras.layers.GlobalAveragePooling1D()(x)\n",
    "    x = tf.keras.layers.Dense(64, activation='relu')(x) #x = tf.keras.layers.Dense(64, activation='relu')(x)\n",
    "    x = tf.keras.layers.Dropout(0.1)(x) #x = tf.keras.layers.Dropout(0.2)(x)\n",
    "    \n",
    "    outputs = tf.keras.layers.Dense(num_classes, activation='softmax')(x)\n",
    "    \n",
    "    model = tf.keras.Model(inputs=inputs, outputs=outputs)\n",
    "    model.compile(optimizer='adam', loss='categorical_crossentropy', metrics=['accuracy'])\n",
    "    return model\n",
    "\n",
    "def build_model_with_Residual_CNN2():\n",
    "    inputs = tf.keras.Input(shape=(max_frames, num_features))\n",
    "    \n",
    "    # Blok 1\n",
    "    x = tf.keras.layers.Conv1D(64, kernel_size=3, padding='same', activation=None)(inputs)\n",
    "    x = tf.keras.layers.BatchNormalization()(x)\n",
    "    x = tf.keras.layers.Activation('relu')(x)  \n",
    "    \n",
    "    x = tf.keras.layers.Conv1D(64, kernel_size=3, padding='same', activation=None)(x)\n",
    "    x = tf.keras.layers.BatchNormalization()(x)\n",
    "    x = tf.keras.layers.Activation('relu')(x)  \n",
    "    \n",
    "    x = tf.keras.layers.MaxPooling1D(pool_size=2)(x)\n",
    "    \n",
    "    residual = x  # Zapisujemy tensor do późniejszego użycia\n",
    "    \n",
    "    # Blok 2\n",
    "    x = tf.keras.layers.Conv1D(128, kernel_size=3, padding='same', activation=None,\n",
    "                           kernel_regularizer=regularizers.l2(0.001))(x)\n",
    "    x = tf.keras.layers.BatchNormalization()(x)\n",
    "    x = tf.keras.layers.Activation('relu')(x)  \n",
    "    \n",
    "    x = tf.keras.layers.Conv1D(128, kernel_size=3, padding='same', activation=None,\n",
    "                           kernel_regularizer=regularizers.l2(0.001))(x)\n",
    "    x = tf.keras.layers.BatchNormalization()(x)\n",
    "    x = tf.keras.layers.Activation('relu')(x)  \n",
    "    \n",
    "    # Dostosowanie liczby kanałów w residual do x\n",
    "    residual = tf.keras.layers.Conv1D(128, kernel_size=1, padding='same', activation=None,\n",
    "                           kernel_regularizer=regularizers.l2(0.001))(residual)\n",
    "    residual = tf.keras.layers.BatchNormalization()(residual)\n",
    "    # W połączeniu resztkowym zwykle nie stosuje się funkcji aktywacji\n",
    "\n",
    "    # Dodanie połączenia resztkowego\n",
    "    x = tf.keras.layers.Add()([x, residual])\n",
    "    x = tf.keras.layers.Activation('relu')(x)   \n",
    "    x = tf.keras.layers.MaxPooling1D(pool_size=2)(x)\n",
    "    \n",
    "    # Blok końcowy\n",
    "    x = tf.keras.layers.GlobalAveragePooling1D()(x)\n",
    "    \n",
    "    x = tf.keras.layers.Dense(64, activation=None)(x)\n",
    "    x = tf.keras.layers.BatchNormalization()(x)\n",
    "    x = tf.keras.layers.Activation('leaky_relu')(x) \n",
    "    x = tf.keras.layers.Dropout(0.1)(x) #x = tf.keras.layers.Dropout(0.1)(x)\n",
    "    \n",
    "    outputs = tf.keras.layers.Dense(num_classes, activation='softmax')(x)\n",
    "    \n",
    "    model = tf.keras.Model(inputs=inputs, outputs=outputs)\n",
    "    model.compile(optimizer='adam', loss='categorical_crossentropy', metrics=['accuracy'])\n",
    "    return model\n",
    "\n",
    "def build_model_with_Stacked_LSTM():\n",
    "    model = tf.keras.models.Sequential([\n",
    "        tf.keras.layers.Conv1D(filters=128, kernel_size=3, activation='relu', \n",
    "                               input_shape=(max_frames, num_features)),\n",
    "        tf.keras.layers.MaxPooling1D(pool_size=2),\n",
    "        \n",
    "        tf.keras.layers.Conv1D(filters=256, kernel_size=3, activation='relu'),\n",
    "        tf.keras.layers.MaxPooling1D(pool_size=2),\n",
    "        \n",
    "        tf.keras.layers.LSTM(256, return_sequences=True), #tf.keras.layers.LSTM(128, return_sequences=True),\n",
    "        tf.keras.layers.LSTM(128), #tf.keras.layers.LSTM(64),\n",
    "        \n",
    "        tf.keras.layers.Dense(128, activation='relu'), #tf.keras.layers.Dense(64, activation='relu'),\n",
    "        tf.keras.layers.Dropout(0.2),\n",
    "        \n",
    "        tf.keras.layers.Dense(num_classes, activation='softmax')\n",
    "    ])\n",
    "    \n",
    "    model.compile(optimizer='adam', loss='categorical_crossentropy', metrics=['accuracy'])\n",
    "    return model\n",
    "\n",
    "import tensorflow as tf\n",
    "from tensorflow.keras import layers, models\n",
    "from tensorflow.keras.callbacks import EarlyStopping\n",
    "\n",
    "def build_basic_cnn():\n",
    "    model = models.Sequential([\n",
    "        # Warstwa konwolucyjna 1\n",
    "        layers.Conv1D(filters=32, kernel_size=3, activation='relu', \n",
    "                      input_shape=(max_frames, num_features)),\n",
    "        layers.MaxPooling1D(pool_size=2),\n",
    "\n",
    "        # Warstwa konwolucyjna 2\n",
    "        layers.Conv1D(filters=64, kernel_size=3, activation='relu'),\n",
    "        layers.MaxPooling1D(pool_size=2),\n",
    "\n",
    "        # Spłaszczenie i warstwy gęste\n",
    "        layers.Flatten(),\n",
    "        layers.Dense(64, activation='relu'),\n",
    "        layers.Dropout(0.5),\n",
    "\n",
    "        # Warstwa wyjściowa\n",
    "        layers.Dense(num_classes, activation='softmax')\n",
    "    ])\n",
    "\n",
    "    # Kompilacja modelu\n",
    "    model.compile(optimizer='adam', loss='categorical_crossentropy', metrics=['accuracy'])\n",
    "    return model\n",
    "# Słownik funkcji budujących modele\n",
    "model_builders = {\n",
    "    #'Model_L2': build_model_with_L2, \n",
    "    'Model_CNN' : build_basic_cnn,\n",
    "    'Model_Residual_CNN': build_model_with_Residual_CNN ,\n",
    "    'Model_Residual_CNN2': build_model_with_Residual_CNN2 ,\n",
    "    'Model_Stacked_LSTM': build_model_with_Stacked_LSTM \n",
    "   \n",
    "}"
   ]
  },
  {
   "cell_type": "code",
   "execution_count": 41,
   "metadata": {},
   "outputs": [
    {
     "name": "stdout",
     "output_type": "stream",
     "text": [
      "Training Model_CNN...\n",
      "Epoch 1/10\n",
      "45/45 [==============================] - 4s 77ms/step - loss: 1.4407 - accuracy: 0.3738 - val_loss: 1.1098 - val_accuracy: 0.4901\n",
      "Epoch 2/10\n",
      "45/45 [==============================] - 3s 74ms/step - loss: 1.0719 - accuracy: 0.5063 - val_loss: 1.0511 - val_accuracy: 0.5380\n",
      "Epoch 3/10\n",
      "45/45 [==============================] - 4s 81ms/step - loss: 0.9860 - accuracy: 0.5599 - val_loss: 1.0634 - val_accuracy: 0.5775\n",
      "Epoch 4/10\n",
      "45/45 [==============================] - 4s 83ms/step - loss: 0.9486 - accuracy: 0.5966 - val_loss: 0.9443 - val_accuracy: 0.5831\n",
      "Epoch 5/10\n",
      "45/45 [==============================] - 4s 82ms/step - loss: 0.7816 - accuracy: 0.6544 - val_loss: 0.9726 - val_accuracy: 0.6056\n",
      "Epoch 6/10\n",
      "45/45 [==============================] - 4s 83ms/step - loss: 0.7245 - accuracy: 0.6819 - val_loss: 0.9882 - val_accuracy: 0.5803\n",
      "Epoch 7/10\n",
      "45/45 [==============================] - 4s 84ms/step - loss: 0.6368 - accuracy: 0.7264 - val_loss: 0.9992 - val_accuracy: 0.5831\n",
      "Epoch 8/10\n",
      "45/45 [==============================] - 4s 91ms/step - loss: 0.5713 - accuracy: 0.7574 - val_loss: 1.0716 - val_accuracy: 0.6113\n",
      "Epoch 9/10\n",
      "45/45 [==============================] - 4s 87ms/step - loss: 0.4991 - accuracy: 0.7877 - val_loss: 1.1184 - val_accuracy: 0.5972\n",
      "Epoch 10/10\n",
      "45/45 [==============================] - 4s 82ms/step - loss: 0.4582 - accuracy: 0.8096 - val_loss: 1.1233 - val_accuracy: 0.5887\n",
      "Model_CNN training completed.\n",
      "Training Model_Residual_CNN...\n",
      "Epoch 1/10\n",
      "45/45 [==============================] - 9s 172ms/step - loss: 1.2039 - accuracy: 0.4563 - val_loss: 1.0816 - val_accuracy: 0.5296\n",
      "Epoch 2/10\n",
      "45/45 [==============================] - 8s 174ms/step - loss: 0.9764 - accuracy: 0.5980 - val_loss: 0.9641 - val_accuracy: 0.5887\n",
      "Epoch 3/10\n",
      "45/45 [==============================] - 8s 176ms/step - loss: 0.9138 - accuracy: 0.6051 - val_loss: 0.9319 - val_accuracy: 0.6254\n",
      "Epoch 4/10\n",
      "45/45 [==============================] - 7s 164ms/step - loss: 0.8531 - accuracy: 0.6382 - val_loss: 0.8963 - val_accuracy: 0.6423\n",
      "Epoch 5/10\n",
      "45/45 [==============================] - 8s 173ms/step - loss: 0.8215 - accuracy: 0.6509 - val_loss: 0.8950 - val_accuracy: 0.6169\n",
      "Epoch 6/10\n",
      "45/45 [==============================] - 8s 168ms/step - loss: 0.8013 - accuracy: 0.6601 - val_loss: 0.8760 - val_accuracy: 0.6085\n",
      "Epoch 7/10\n",
      "45/45 [==============================] - 8s 170ms/step - loss: 0.7893 - accuracy: 0.6671 - val_loss: 0.8721 - val_accuracy: 0.6507\n",
      "Epoch 8/10\n",
      "45/45 [==============================] - 7s 167ms/step - loss: 0.7685 - accuracy: 0.6742 - val_loss: 0.8413 - val_accuracy: 0.6479\n",
      "Epoch 9/10\n",
      "45/45 [==============================] - 8s 172ms/step - loss: 0.7293 - accuracy: 0.6876 - val_loss: 0.9319 - val_accuracy: 0.6366\n",
      "Epoch 10/10\n",
      "45/45 [==============================] - 8s 167ms/step - loss: 0.7283 - accuracy: 0.6911 - val_loss: 0.8042 - val_accuracy: 0.6873\n",
      "Model_Residual_CNN training completed.\n",
      "Training Model_Residual_CNN2...\n",
      "Epoch 1/10\n",
      "45/45 [==============================] - 13s 249ms/step - loss: 1.4808 - accuracy: 0.5056 - val_loss: 1.8907 - val_accuracy: 0.2338\n",
      "Epoch 2/10\n",
      "45/45 [==============================] - 10s 233ms/step - loss: 1.2196 - accuracy: 0.6220 - val_loss: 1.3870 - val_accuracy: 0.5549\n",
      "Epoch 3/10\n",
      "45/45 [==============================] - 11s 236ms/step - loss: 1.1541 - accuracy: 0.6417 - val_loss: 1.2501 - val_accuracy: 0.5831\n",
      "Epoch 4/10\n",
      "45/45 [==============================] - 11s 237ms/step - loss: 1.1037 - accuracy: 0.6573 - val_loss: 1.1889 - val_accuracy: 0.5831\n",
      "Epoch 5/10\n",
      "45/45 [==============================] - 11s 236ms/step - loss: 1.0518 - accuracy: 0.6791 - val_loss: 1.1001 - val_accuracy: 0.6282\n",
      "Epoch 6/10\n",
      "45/45 [==============================] - 11s 236ms/step - loss: 1.0007 - accuracy: 0.6939 - val_loss: 1.1207 - val_accuracy: 0.6169\n",
      "Epoch 7/10\n",
      "45/45 [==============================] - 11s 237ms/step - loss: 0.9806 - accuracy: 0.6911 - val_loss: 1.1170 - val_accuracy: 0.6028\n",
      "Epoch 8/10\n",
      "45/45 [==============================] - 11s 239ms/step - loss: 0.9690 - accuracy: 0.6918 - val_loss: 1.1072 - val_accuracy: 0.6056\n",
      "Epoch 9/10\n",
      "45/45 [==============================] - 11s 235ms/step - loss: 0.9280 - accuracy: 0.7073 - val_loss: 1.0872 - val_accuracy: 0.6451\n",
      "Epoch 10/10\n",
      "45/45 [==============================] - 11s 241ms/step - loss: 0.9040 - accuracy: 0.7102 - val_loss: 1.1479 - val_accuracy: 0.6000\n",
      "Model_Residual_CNN2 training completed.\n",
      "Training Model_Stacked_LSTM...\n",
      "Epoch 1/10\n",
      "45/45 [==============================] - 39s 771ms/step - loss: 1.2351 - accuracy: 0.4154 - val_loss: 1.1379 - val_accuracy: 0.4507\n",
      "Epoch 2/10\n",
      "45/45 [==============================] - 41s 919ms/step - loss: 1.1390 - accuracy: 0.4647 - val_loss: 1.1270 - val_accuracy: 0.5099\n",
      "Epoch 3/10\n",
      "45/45 [==============================] - 45s 1s/step - loss: 1.0932 - accuracy: 0.4951 - val_loss: 1.1056 - val_accuracy: 0.5183\n",
      "Epoch 4/10\n",
      "45/45 [==============================] - 39s 877ms/step - loss: 1.0238 - accuracy: 0.5578 - val_loss: 1.0238 - val_accuracy: 0.5549\n",
      "Epoch 5/10\n",
      "45/45 [==============================] - 44s 965ms/step - loss: 0.9790 - accuracy: 0.5797 - val_loss: 1.0661 - val_accuracy: 0.5211\n",
      "Epoch 6/10\n",
      "45/45 [==============================] - 42s 933ms/step - loss: 0.9970 - accuracy: 0.5543 - val_loss: 1.0110 - val_accuracy: 0.5493\n",
      "Epoch 7/10\n",
      "45/45 [==============================] - 38s 850ms/step - loss: 0.9222 - accuracy: 0.6065 - val_loss: 0.9468 - val_accuracy: 0.6028\n",
      "Epoch 8/10\n",
      "45/45 [==============================] - 37s 824ms/step - loss: 0.8718 - accuracy: 0.6312 - val_loss: 0.9817 - val_accuracy: 0.5915\n",
      "Epoch 9/10\n",
      "45/45 [==============================] - 34s 754ms/step - loss: 0.8814 - accuracy: 0.6255 - val_loss: 0.9795 - val_accuracy: 0.6028\n",
      "Epoch 10/10\n",
      "45/45 [==============================] - 34s 744ms/step - loss: 0.9034 - accuracy: 0.6185 - val_loss: 0.9677 - val_accuracy: 0.5549\n",
      "Model_Stacked_LSTM training completed.\n"
     ]
    },
    {
     "data": {
      "image/png": "[encoded data removed]",
      "text/plain": [
       "<Figure size 1200x600 with 1 Axes>"
      ]
     },
     "metadata": {},
     "output_type": "display_data"
    },
    {
     "data": {
      "image/png": "[encoded data removed]",
      "text/plain": [
       "<Figure size 1200x600 with 1 Axes>"
      ]
     },
     "metadata": {},
     "output_type": "display_data"
    }
   ],
   "source": [
    "import os\n",
    "import random\n",
    "import numpy as np\n",
    "\n",
    "# 1. Ustawienie zmiennych środowiskowych\n",
    "os.environ['PYTHONHASHSEED'] = '42'\n",
    "os.environ['TF_DETERMINISTIC_OPS'] = '1'\n",
    "\n",
    "# 2. Ustawienie ziarna losowego dla modułów random i NumPy\n",
    "random.seed(42)\n",
    "np.random.seed(42)\n",
    "\n",
    "# 3. Import TensorFlow\n",
    "import tensorflow as tf\n",
    "\n",
    "# 4. Ustawienie konfiguracji wątków\n",
    "#tf.config.threading.set_inter_op_parallelism_threads(1)\n",
    "#tf.config.threading.set_intra_op_parallelism_threads(1)\n",
    "\n",
    "# 5. Ustawienie ziarna losowego dla TensorFlow\n",
    "tf.random.set_seed(42)\n",
    "\n",
    "# 6. Importowanie modułów Keras\n",
    "from tensorflow.keras.models import Sequential\n",
    "from tensorflow.keras.layers import Dense, Conv1D, MaxPooling1D, Flatten\n",
    "\n",
    "\n",
    "histories = {}\n",
    "trained_models = {}\n",
    "\n",
    "\n",
    "\n",
    "for model_name, build_function in model_builders.items():\n",
    "    print(f'Training {model_name}...')\n",
    "    tf.random.set_seed(42)\n",
    "    model = build_function()\n",
    "    history = model.fit(\n",
    "        X_train_scaled, y_train,\n",
    "        epochs=10,\n",
    "        batch_size=32,\n",
    "        validation_data=(X_test_scaled, y_test),\n",
    "        callbacks=[early_stopping],\n",
    "        verbose=1  # Ustaw na 1, jeśli chcesz zobaczyć postęp treningu\n",
    "    )\n",
    "    histories[model_name] = history\n",
    "    trained_models[model_name] = model  # Zapisujemy wytrenowany model\n",
    "    print(f'{model_name} training completed.')\n",
    "\n",
    "def plot_metric(histories, metric):\n",
    "    plt.figure(figsize=(12, 6))\n",
    "    \n",
    "    for model_name, history in histories.items():\n",
    "        plt.plot(history.history[metric], label=f'{model_name} - train')\n",
    "        plt.plot(history.history[f'val_{metric}'], linestyle='--', label=f'{model_name} - val')\n",
    "    \n",
    "    plt.title(f'Porównanie {metric}')\n",
    "    plt.xlabel('Epoka')\n",
    "    plt.ylabel(metric)\n",
    "    plt.legend()\n",
    "    plt.grid(True)\n",
    "    plt.show()\n",
    "\n",
    "plot_metric(histories, 'accuracy')\n",
    "plot_metric(histories, 'loss')"
   ]
  },
  {
   "cell_type": "code",
   "execution_count": 42,
   "metadata": {},
   "outputs": [
    {
     "name": "stdout",
     "output_type": "stream",
     "text": [
      "Evaluating Model_CNN...\n",
      "12/12 [==============================] - 0s 19ms/step\n",
      "Evaluating Model_Residual_CNN...\n",
      "12/12 [==============================] - 1s 32ms/step\n",
      "Evaluating Model_Residual_CNN2...\n",
      "12/12 [==============================] - 1s 40ms/step\n",
      "Evaluating Model_Stacked_LSTM...\n",
      "12/12 [==============================] - 3s 183ms/step\n",
      "                     Accuracy    Loss  Precision  Recall  F1-score\n",
      "Model                                                             \n",
      "Model_CNN              0.5887  1.1233     0.5899  0.5887    0.5834\n",
      "Model_Residual_CNN     0.6873  0.8042     0.6944  0.6873    0.6816\n",
      "Model_Residual_CNN2    0.6000  1.1479     0.6411  0.6000    0.5621\n",
      "Model_Stacked_LSTM     0.5549  0.9677     0.5701  0.5549    0.5333\n"
     ]
    }
   ],
   "source": [
    "import matplotlib.pyplot as plt\n",
    "from sklearn.metrics import precision_score, recall_score, f1_score\n",
    "import pandas as pd\n",
    "import numpy as np\n",
    "\n",
    "\n",
    "metrics_list = []\n",
    "\n",
    "for model_name, model in trained_models.items():\n",
    "    print(f'Evaluating {model_name}...')\n",
    "    # Ocena modelu na zbiorze testowym\n",
    "    loss, accuracy = model.evaluate(X_test_scaled, y_test, verbose=0)\n",
    "    \n",
    "    # Przewidywania na zbiorze testowym\n",
    "    y_pred_probs = model.predict(X_test_scaled)\n",
    "    y_pred_classes = np.argmax(y_pred_probs, axis=1)\n",
    "    y_true_classes = np.argmax(y_test, axis=1)\n",
    "    \n",
    "    # Obliczanie precyzji, recall, F1-score\n",
    "    precision = precision_score(y_true_classes, y_pred_classes, average='weighted')\n",
    "    recall = recall_score(y_true_classes, y_pred_classes, average='weighted')\n",
    "    f1 = f1_score(y_true_classes, y_pred_classes, average='weighted')\n",
    "    \n",
    "    # Dodanie metryk do listy\n",
    "    metrics_list.append({\n",
    "        'Model': model_name,\n",
    "        'Accuracy': round(accuracy, 4),\n",
    "        'Loss': round(loss, 4),\n",
    "        'Precision': round(precision, 4),\n",
    "        'Recall': round(recall, 4),\n",
    "        'F1-score': round(f1, 4)\n",
    "    })\n",
    "\n",
    "# Tworzenie DataFrame z metrykami\n",
    "metrics_df = pd.DataFrame(metrics_list)\n",
    "metrics_df.set_index('Model', inplace=True)\n",
    "\n",
    "# Wyświetlenie tabeli\n",
    "print(metrics_df)"
   ]
  },
  {
   "cell_type": "code",
   "execution_count": 43,
   "metadata": {},
   "outputs": [
    {
     "name": "stdout",
     "output_type": "stream",
     "text": [
      "12/12 [==============================] - 2s 193ms/step\n",
      "Indeks: 4\n",
      "Prawdziwa klasa: 0\n",
      "Przewidziana klasa: 2\n",
      "Indeks: 5\n",
      "Prawdziwa klasa: 2\n",
      "Przewidziana klasa: 3\n",
      "Indeks: 11\n",
      "Prawdziwa klasa: 0\n",
      "Przewidziana klasa: 2\n",
      "Indeks: 12\n",
      "Prawdziwa klasa: 2\n",
      "Przewidziana klasa: 0\n",
      "Indeks: 18\n",
      "Prawdziwa klasa: 0\n",
      "Przewidziana klasa: 2\n"
     ]
    }
   ],
   "source": [
    "y_pred_probs = model.predict(X_test_scaled)\n",
    "y_pred_classes = np.argmax(y_pred_probs, axis=1)\n",
    "y_true_classes = np.argmax(y_test, axis=1)\n",
    "\n",
    "# Znalezienie indeksów błędnie sklasyfikowanych próbek\n",
    "misclassified_indices = np.where(y_pred_classes != y_true_classes)[0]\n",
    "\n",
    "# Wyświetlenie kilku błędnie sklasyfikowanych przykładów\n",
    "for index in misclassified_indices[:5]:\n",
    "    print(f'Indeks: {index}')\n",
    "    print(f'Prawdziwa klasa: {y_true_classes[index]}')\n",
    "    print(f'Przewidziana klasa: {y_pred_classes[index]}')\n",
    "    # Możesz tutaj dodać kod do wizualizacji lub analizy danych wejściowych"
   ]
  },
  {
   "cell_type": "code",
   "execution_count": 45,
   "metadata": {},
   "outputs": [
    {
     "name": "stdout",
     "output_type": "stream",
     "text": [
      "12/12 [==============================] - 2s 191ms/step\n"
     ]
    },
    {
     "data": {
      "image/png": "[encoded data removed]",
      "text/plain": [
       "<Figure size 1000x800 with 2 Axes>"
      ]
     },
     "metadata": {},
     "output_type": "display_data"
    }
   ],
   "source": [
    "import seaborn as sns\n",
    "y_pred_probs = model.predict(X_test_scaled)\n",
    "y_pred_classes = np.argmax(y_pred_probs, axis=1)\n",
    "\n",
    "# Prawdziwe etykiety\n",
    "# Jeśli y_test jest one-hot encoded\n",
    "y_true_classes = np.argmax(y_test, axis=1)\n",
    "\n",
    " \n",
    "\n",
    "# Jeśli nie używasz LabelEncoder, zdefiniuj nazwy klas ręcznie\n",
    "class_names = ['Euthymia', 'Depression', 'Mania', 'Mixed' ]  # Zastąp odpowiednimi nazwami\n",
    "\n",
    "# Obliczenie macierzy pomyłek\n",
    "conf_matrix = confusion_matrix(y_true_classes, y_pred_classes)\n",
    "\n",
    "# Wizualizacja macierzy pomyłek\n",
    "plt.figure(figsize=(10, 8))\n",
    "sns.heatmap(conf_matrix, annot=True, fmt='d', cmap='Blues', \n",
    "            xticklabels=class_names, yticklabels=class_names)\n",
    "plt.title('Macierz pomyłek')\n",
    "plt.xlabel('Przewidywana etykieta')\n",
    "plt.ylabel('Prawdziwa etykieta')\n",
    "plt.show()"
   ]
  },
  {
   "cell_type": "markdown",
   "metadata": {},
   "source": [
    "## PLENARY"
   ]
  },
  {
   "cell_type": "markdown",
   "metadata": {},
   "source": [
    "### Przygotowanie danych"
   ]
  },
  {
   "cell_type": "code",
   "execution_count": null,
   "metadata": {},
   "outputs": [],
   "source": [
    "# df_train = pd.read_csv(\"df_train_noise.csv\")\n",
    "# df_test = pd.read_csv(\"df_test_noise.csv\")"
   ]
  },
  {
   "cell_type": "code",
   "execution_count": null,
   "metadata": {},
   "outputs": [],
   "source": [
    "# #TRAIN SET\n",
    "# X_train = df_train.loc[:, 'pcm_LOGenergy_sma':'pcm_fftMag_mfcc_12_']\n",
    "# y_train_symptoms = df_train.loc[:, 'anxiety':'suicide']\n",
    "# y_train_states = df_train.loc[:, 'hamd_ymrs']\n",
    "\n",
    "# # from categorical to numeric target\n",
    "# label_coding = {'euthymia' : 0,\n",
    "#                 'depression' : 1,\n",
    "#                 'mania' : 2,\n",
    "#                 'mixed': 3}\n",
    "\n",
    "# y_train_states_encoded = np.array(y_train_states.map(label_coding).astype(int))\n",
    "\n",
    "# # #TEST SET\n",
    "# X_test = df_test.loc[:, 'pcm_LOGenergy_sma':'pcm_fftMag_mfcc_12_']\n",
    "# y_test_symptoms = df_test.loc[:, 'anxiety':'suicide']\n",
    "# y_test_states = df_test.loc[:, 'hamd_ymrs']\n",
    "\n",
    "# y_test_states_encoded = np.array(y_test_states.map(label_coding).astype(int))\n",
    "\n",
    "# # # standardize data\n",
    "# scaler = preprocessing.StandardScaler()\n",
    "# scaler.fit(X_train.values)\n",
    "# X_train_scaled = scaler.transform(X_train.values)\n",
    "# X_test_scaled = scaler.transform(X_test.values)"
   ]
  },
  {
   "cell_type": "markdown",
   "metadata": {},
   "source": [
    "### Baseline"
   ]
  },
  {
   "cell_type": "code",
   "execution_count": 47,
   "metadata": {},
   "outputs": [
    {
     "name": "stdout",
     "output_type": "stream",
     "text": [
      "Model: \"sequential_3\"\n",
      "_________________________________________________________________\n",
      " Layer (type)                Output Shape              Param #   \n",
      "=================================================================\n",
      " dense (Dense)               (None, 64)                5568      \n",
      "                                                                 \n",
      " dropout (Dropout)           (None, 64)                0         \n",
      "                                                                 \n",
      " output (Dense)              (None, 4)                 260       \n",
      "                                                                 \n",
      "=================================================================\n",
      "Total params: 5,828\n",
      "Trainable params: 5,828\n",
      "Non-trainable params: 0\n",
      "_________________________________________________________________\n"
     ]
    }
   ],
   "source": [
    "def build_model():\n",
    "    model = tf.keras.models.Sequential([\n",
    "        tf.keras.layers.Dense(64, input_shape=(86,), activation='relu', name='dense'),\n",
    "        tf.keras.layers.Dropout(0.2, name='dropout'),\n",
    "        tf.keras.layers.Dense(4, activation='softmax', name='output')])\n",
    "    model.build()\n",
    "    return model\n",
    "\n",
    "model_name = \"baseline\"\n",
    "baseline = build_model()\n",
    "\n",
    "baseline.summary()"
   ]
  },
  {
   "cell_type": "code",
   "execution_count": 51,
   "metadata": {},
   "outputs": [
    {
     "name": "stdout",
     "output_type": "stream",
     "text": [
      "Epoch 1/10\n",
      "44313/44313 [==============================] - 137s 3ms/step - loss: 0.9888 - accuracy: 0.5548 - val_loss: 1.0284 - val_accuracy: 0.5423\n",
      "Epoch 2/10\n",
      "44313/44313 [==============================] - 132s 3ms/step - loss: 0.9646 - accuracy: 0.5652 - val_loss: 1.0196 - val_accuracy: 0.5485\n",
      "Epoch 3/10\n",
      "44313/44313 [==============================] - 128s 3ms/step - loss: 0.9575 - accuracy: 0.5681 - val_loss: 1.0204 - val_accuracy: 0.5461\n",
      "Epoch 4/10\n",
      "44313/44313 [==============================] - 124s 3ms/step - loss: 0.9536 - accuracy: 0.5704 - val_loss: 1.0134 - val_accuracy: 0.5506\n",
      "Epoch 5/10\n",
      "44313/44313 [==============================] - 124s 3ms/step - loss: 0.9500 - accuracy: 0.5713 - val_loss: 1.0105 - val_accuracy: 0.5530\n",
      "Epoch 6/10\n",
      "44313/44313 [==============================] - 124s 3ms/step - loss: 0.9486 - accuracy: 0.5722 - val_loss: 1.0355 - val_accuracy: 0.5520\n",
      "Epoch 7/10\n",
      "44313/44313 [==============================] - 124s 3ms/step - loss: 0.9469 - accuracy: 0.5728 - val_loss: 1.0168 - val_accuracy: 0.5513\n",
      "Epoch 8/10\n",
      "44313/44313 [==============================] - 124s 3ms/step - loss: 0.9448 - accuracy: 0.5734 - val_loss: 1.0144 - val_accuracy: 0.5527\n",
      "11094/11094 [==============================] - 18s 2ms/step\n"
     ]
    }
   ],
   "source": [
    "baseline.compile(optimizer='adam',\n",
    "                loss=tf.keras.losses.SparseCategoricalCrossentropy(from_logits=False), \n",
    "                metrics=['accuracy'])\n",
    "\n",
    "early_stopping = tf.keras.callbacks.EarlyStopping(monitor='val_accuracy', patience=3) \n",
    "\n",
    "baseline.fit(X_train_scaled_flat,\n",
    " y_train_flat,\n",
    " epochs=10,\n",
    " validation_data=(X_test_scaled_flat, y_test_flat),\n",
    " callbacks=[early_stopping])\n",
    "\n",
    "y_pred_states = baseline.predict(X_test_scaled_flat)\n",
    "y_pred_states = np.argmax(y_pred_states, axis=1)"
   ]
  },
  {
   "cell_type": "code",
   "execution_count": 53,
   "metadata": {},
   "outputs": [
    {
     "name": "stdout",
     "output_type": "stream",
     "text": [
      "[[ 19318  45236  14221   2225]\n",
      " [ 12259 107859  13399   3483]\n",
      " [ 11085  30431  47056   2428]\n",
      " [  4558  13868   5612  21962]]\n",
      "              precision    recall  f1-score   support\n",
      "\n",
      "           0       0.41      0.24      0.30     81000\n",
      "           1       0.55      0.79      0.65    137000\n",
      "           2       0.59      0.52      0.55     91000\n",
      "           3       0.73      0.48      0.58     46000\n",
      "\n",
      "    accuracy                           0.55    355000\n",
      "   macro avg       0.57      0.51      0.52    355000\n",
      "weighted avg       0.55      0.55      0.53    355000\n",
      "\n"
     ]
    }
   ],
   "source": [
    "cm_base = confusion_matrix(y_test_flat, y_pred_states)\n",
    "cr_base = classification_report(y_test_flat, y_pred_states)\n",
    "\n",
    "print(cm_base)\n",
    "print(cr_base)"
   ]
  },
  {
   "cell_type": "markdown",
   "metadata": {},
   "source": [
    "## Two head"
   ]
  },
  {
   "cell_type": "code",
   "execution_count": null,
   "metadata": {},
   "outputs": [],
   "source": [
    "\n",
    "# dołozyc symptomy!!!!\n",
    "\n",
    "model_name='two_head'\n",
    "\n",
    "input = tf.keras.layers.Input(shape=(86,), name='input')\n",
    "hidden = tf.keras.layers.Dense(64, activation='relu', name='dense')(input)\n",
    "dropout = tf.keras.layers.Dropout(0.2, name='dropout')(hidden)\n",
    "symptom_output = tf.keras.layers.Dense(10, name='symptom_output')(dropout)\n",
    "state_output = tf.keras.layers.Dense(4, activation='softmax', name='state_output')(symptom_output)\n",
    "\n",
    "two_head = tf.keras.Model(inputs=input, \n",
    "                          outputs=[symptom_output, state_output], \n",
    "                          name='two_head_model')\n",
    "\n",
    "two_head.summary()\n",
    "\n",
    "two_head.compile(optimizer='adam',\n",
    "                 loss=[tf.keras.losses.MeanAbsoluteError(),\n",
    "                       tf.keras.losses.SparseCategoricalCrossentropy(from_logits=False)],\n",
    "                 loss_weights=[0.5, 0.5],\n",
    "                 metrics=['mae', 'accuracy'])\n",
    "\n",
    "early_stopping = tf.keras.callbacks.EarlyStopping(monitor='state_output_accuracy', patience=3)\n",
    "\n",
    "two_head.fit(X_train_scaled_flat, [y_train_flat, y_train_states_encoded], epochs=15, \n",
    "             validation_data=(X_test_scaled, [y_test_symptoms, y_test_states_encoded]),\n",
    "             callbacks=[early_stopping])\n",
    "\n",
    "\n",
    "\n"
   ]
  },
  {
   "cell_type": "code",
   "execution_count": null,
   "metadata": {},
   "outputs": [],
   "source": [
    "model_name='two_head'\n",
    "y_pred_states = two_head.predict(X_test_scaled)\n",
    "\n",
    "y_pred_states = np.argmax(y_pred_states[1][:], axis=1)\n",
    "\n",
    "cm_th_class = confusion_matrix(y_test_states_encoded, y_pred_states)\n",
    "cr_th_class = classification_report(y_test_states_encoded, y_pred_states)\n",
    "\n",
    "print(cm_th_class)\n",
    "print(cr_th_class)"
   ]
  }
 ],
 "metadata": {
  "kernelspec": {
   "display_name": "phd",
   "language": "python",
   "name": "python3"
  },
  "language_info": {
   "codemirror_mode": {
    "name": "ipython",
    "version": 3
   },
   "file_extension": ".py",
   "mimetype": "text/x-python",
   "name": "python",
   "nbconvert_exporter": "python",
   "pygments_lexer": "ipython3",
   "version": "3.10.13"
  }
 },
 "nbformat": 4,
 "nbformat_minor": 2
}
