{
 "cells": [
  {
   "cell_type": "code",
   "execution_count": 2,
   "metadata": {},
   "outputs": [],
   "source": [
    "import pandas as pd\n",
    "import numpy as np\n",
    "import tensorflow as tf\n",
    "from sklearn import preprocessing\n",
    "from sklearn.metrics import confusion_matrix, classification_report\n",
    "import matplotlib.pyplot as plt\n",
    "import polars as pl\n",
    "from datetime import timedelta\n",
    "from sklearn.model_selection import train_test_split\n",
    "from sklearn.preprocessing import LabelEncoder, StandardScaler\n",
    "from tensorflow.keras.preprocessing.sequence import pad_sequences\n",
    "import tensorflow as tf\n",
    "from tensorflow.keras.models import Sequential\n",
    "from tensorflow.keras.layers import Conv1D, MaxPooling1D, LSTM, Dense, Dropout, Flatten\n",
    "from sklearn.utils.class_weight import compute_class_weight\n",
    "import numpy as np"
   ]
  },
  {
   "cell_type": "code",
   "execution_count": 2,
   "metadata": {},
   "outputs": [
    {
     "name": "stdout",
     "output_type": "stream",
     "text": [
      "Czy GPU jestt :  []\n"
     ]
    },
    {
     "data": {
      "text/plain": [
       "[PhysicalDevice(name='/physical_device:CPU:0', device_type='CPU')]"
      ]
     },
     "execution_count": 2,
     "metadata": {},
     "output_type": "execute_result"
    }
   ],
   "source": []
  },
  {
   "cell_type": "code",
   "execution_count": null,
   "metadata": {},
   "outputs": [],
   "source": [
    "# mobilerecordings = pl.read_csv('C:\\\\Users\\\\user\\\\Documents\\\\danonki\\\\mobilerecordings.csv' ,   ignore_errors=True )\n",
    "# visits = pl.read_csv('C:\\\\Users\\\\user\\\\Documents\\\\danonki\\\\wizyty.csv' ,   ignore_errors=True )\n",
    "\n",
    "# mr_linear = pl.read_csv('C:\\\\Users\\\\user\\\\Documents\\\\danonki\\\\model_df_linear.csv' ,   ignore_errors=True )\n",
    "# mr_linear = mr_linear.select(['patient_id','recording','create_date','date','visit_date','time_point','confidence','label','chunks_count','euthymia','depression','mania','mixed'])\n",
    "# mr_linear = mr_linear.rename({\"recording\": \"mr\"})\n",
    "# mr_linear\n",
    "\n",
    "# mr_gauss = pl.read_csv('C:\\\\Users\\\\user\\\\Documents\\\\danonki\\\\model_df.csv' ,   ignore_errors=True )\n",
    "# mr_gauss = mr_gauss.select(['patient_id','recording','create_date','date','visit_date','time_point','confidence','label','chunks_count','euthymia','depression','mania','mixed'])\n",
    "# mr_gauss = mr_gauss.rename({\"recording\": \"mr\"})\n",
    "# mr_gauss"
   ]
  },
  {
   "cell_type": "code",
   "execution_count": 3,
   "metadata": {},
   "outputs": [
    {
     "data": {
      "text/html": [
       "<div><style>\n",
       ".dataframe > thead > tr,\n",
       ".dataframe > tbody > tr {\n",
       "  text-align: right;\n",
       "  white-space: pre-wrap;\n",
       "}\n",
       "</style>\n",
       "<small>shape: (38_648, 13)</small><table border=\"1\" class=\"dataframe\"><thead><tr><th>patient_id</th><th>mr</th><th>create_date</th><th>date</th><th>visit_date</th><th>time_point</th><th>confidence</th><th>label</th><th>chunks_count</th><th>euthymia</th><th>depression</th><th>mania</th><th>mixed</th></tr><tr><td>i64</td><td>i64</td><td>str</td><td>str</td><td>str</td><td>str</td><td>str</td><td>str</td><td>str</td><td>str</td><td>str</td><td>str</td><td>str</td></tr></thead><tbody><tr><td>91</td><td>5300</td><td>&quot;2018-03-08 15:39:45&quot;</td><td>&quot;2018-03-08&quot;</td><td>&quot;NA&quot;</td><td>&quot;NA&quot;</td><td>&quot;NA&quot;</td><td>&quot;NA&quot;</td><td>&quot;1&quot;</td><td>&quot;NA&quot;</td><td>&quot;NA&quot;</td><td>&quot;NA&quot;</td><td>&quot;NA&quot;</td></tr><tr><td>397</td><td>34391</td><td>&quot;2018-10-02 18:15:46&quot;</td><td>&quot;2018-10-02&quot;</td><td>&quot;2018-10-02&quot;</td><td>&quot;0&quot;</td><td>&quot;1&quot;</td><td>&quot;depression&quot;</td><td>&quot;3&quot;</td><td>&quot;0&quot;</td><td>&quot;1&quot;</td><td>&quot;0&quot;</td><td>&quot;0&quot;</td></tr><tr><td>397</td><td>34416</td><td>&quot;2018-10-02 20:10:35&quot;</td><td>&quot;2018-10-02&quot;</td><td>&quot;2018-10-02&quot;</td><td>&quot;0&quot;</td><td>&quot;1&quot;</td><td>&quot;depression&quot;</td><td>&quot;4&quot;</td><td>&quot;0&quot;</td><td>&quot;1&quot;</td><td>&quot;0&quot;</td><td>&quot;0&quot;</td></tr><tr><td>397</td><td>34424</td><td>&quot;2018-10-02 20:46:39&quot;</td><td>&quot;2018-10-02&quot;</td><td>&quot;2018-10-02&quot;</td><td>&quot;0&quot;</td><td>&quot;1&quot;</td><td>&quot;depression&quot;</td><td>&quot;1&quot;</td><td>&quot;0&quot;</td><td>&quot;1&quot;</td><td>&quot;0&quot;</td><td>&quot;0&quot;</td></tr><tr><td>397</td><td>34459</td><td>&quot;2018-10-03 07:19:13&quot;</td><td>&quot;2018-10-03&quot;</td><td>&quot;2018-10-02&quot;</td><td>&quot;1&quot;</td><td>&quot;1&quot;</td><td>&quot;depression&quot;</td><td>&quot;10&quot;</td><td>&quot;0&quot;</td><td>&quot;1&quot;</td><td>&quot;0&quot;</td><td>&quot;0&quot;</td></tr><tr><td>&hellip;</td><td>&hellip;</td><td>&hellip;</td><td>&hellip;</td><td>&hellip;</td><td>&hellip;</td><td>&hellip;</td><td>&hellip;</td><td>&hellip;</td><td>&hellip;</td><td>&hellip;</td><td>&hellip;</td><td>&hellip;</td></tr><tr><td>9829</td><td>56327</td><td>&quot;2019-01-21 10:59:44&quot;</td><td>&quot;2019-01-21&quot;</td><td>&quot;NA&quot;</td><td>&quot;NA&quot;</td><td>&quot;NA&quot;</td><td>&quot;NA&quot;</td><td>&quot;1&quot;</td><td>&quot;NA&quot;</td><td>&quot;NA&quot;</td><td>&quot;NA&quot;</td><td>&quot;NA&quot;</td></tr><tr><td>9829</td><td>56328</td><td>&quot;2019-01-21 11:05:58&quot;</td><td>&quot;2019-01-21&quot;</td><td>&quot;NA&quot;</td><td>&quot;NA&quot;</td><td>&quot;NA&quot;</td><td>&quot;NA&quot;</td><td>&quot;6&quot;</td><td>&quot;NA&quot;</td><td>&quot;NA&quot;</td><td>&quot;NA&quot;</td><td>&quot;NA&quot;</td></tr><tr><td>9829</td><td>56352</td><td>&quot;2019-01-21 12:20:32&quot;</td><td>&quot;2019-01-21&quot;</td><td>&quot;NA&quot;</td><td>&quot;NA&quot;</td><td>&quot;NA&quot;</td><td>&quot;NA&quot;</td><td>&quot;1&quot;</td><td>&quot;NA&quot;</td><td>&quot;NA&quot;</td><td>&quot;NA&quot;</td><td>&quot;NA&quot;</td></tr><tr><td>9829</td><td>56626</td><td>&quot;2019-01-22 17:31:56&quot;</td><td>&quot;2019-01-22&quot;</td><td>&quot;NA&quot;</td><td>&quot;NA&quot;</td><td>&quot;NA&quot;</td><td>&quot;NA&quot;</td><td>&quot;10&quot;</td><td>&quot;NA&quot;</td><td>&quot;NA&quot;</td><td>&quot;NA&quot;</td><td>&quot;NA&quot;</td></tr><tr><td>9829</td><td>55655</td><td>&quot;2019-01-16 12:40:27&quot;</td><td>&quot;2019-01-16&quot;</td><td>&quot;NA&quot;</td><td>&quot;NA&quot;</td><td>&quot;NA&quot;</td><td>&quot;NA&quot;</td><td>&quot;1&quot;</td><td>&quot;NA&quot;</td><td>&quot;NA&quot;</td><td>&quot;NA&quot;</td><td>&quot;NA&quot;</td></tr></tbody></table></div>"
      ],
      "text/plain": [
       "shape: (38_648, 13)\n",
       "┌────────────┬───────┬─────────────┬────────────┬───┬──────────┬────────────┬───────┬───────┐\n",
       "│ patient_id ┆ mr    ┆ create_date ┆ date       ┆ … ┆ euthymia ┆ depression ┆ mania ┆ mixed │\n",
       "│ ---        ┆ ---   ┆ ---         ┆ ---        ┆   ┆ ---      ┆ ---        ┆ ---   ┆ ---   │\n",
       "│ i64        ┆ i64   ┆ str         ┆ str        ┆   ┆ str      ┆ str        ┆ str   ┆ str   │\n",
       "╞════════════╪═══════╪═════════════╪════════════╪═══╪══════════╪════════════╪═══════╪═══════╡\n",
       "│ 91         ┆ 5300  ┆ 2018-03-08  ┆ 2018-03-08 ┆ … ┆ NA       ┆ NA         ┆ NA    ┆ NA    │\n",
       "│            ┆       ┆ 15:39:45    ┆            ┆   ┆          ┆            ┆       ┆       │\n",
       "│ 397        ┆ 34391 ┆ 2018-10-02  ┆ 2018-10-02 ┆ … ┆ 0        ┆ 1          ┆ 0     ┆ 0     │\n",
       "│            ┆       ┆ 18:15:46    ┆            ┆   ┆          ┆            ┆       ┆       │\n",
       "│ 397        ┆ 34416 ┆ 2018-10-02  ┆ 2018-10-02 ┆ … ┆ 0        ┆ 1          ┆ 0     ┆ 0     │\n",
       "│            ┆       ┆ 20:10:35    ┆            ┆   ┆          ┆            ┆       ┆       │\n",
       "│ 397        ┆ 34424 ┆ 2018-10-02  ┆ 2018-10-02 ┆ … ┆ 0        ┆ 1          ┆ 0     ┆ 0     │\n",
       "│            ┆       ┆ 20:46:39    ┆            ┆   ┆          ┆            ┆       ┆       │\n",
       "│ 397        ┆ 34459 ┆ 2018-10-03  ┆ 2018-10-03 ┆ … ┆ 0        ┆ 1          ┆ 0     ┆ 0     │\n",
       "│            ┆       ┆ 07:19:13    ┆            ┆   ┆          ┆            ┆       ┆       │\n",
       "│ …          ┆ …     ┆ …           ┆ …          ┆ … ┆ …        ┆ …          ┆ …     ┆ …     │\n",
       "│ 9829       ┆ 56327 ┆ 2019-01-21  ┆ 2019-01-21 ┆ … ┆ NA       ┆ NA         ┆ NA    ┆ NA    │\n",
       "│            ┆       ┆ 10:59:44    ┆            ┆   ┆          ┆            ┆       ┆       │\n",
       "│ 9829       ┆ 56328 ┆ 2019-01-21  ┆ 2019-01-21 ┆ … ┆ NA       ┆ NA         ┆ NA    ┆ NA    │\n",
       "│            ┆       ┆ 11:05:58    ┆            ┆   ┆          ┆            ┆       ┆       │\n",
       "│ 9829       ┆ 56352 ┆ 2019-01-21  ┆ 2019-01-21 ┆ … ┆ NA       ┆ NA         ┆ NA    ┆ NA    │\n",
       "│            ┆       ┆ 12:20:32    ┆            ┆   ┆          ┆            ┆       ┆       │\n",
       "│ 9829       ┆ 56626 ┆ 2019-01-22  ┆ 2019-01-22 ┆ … ┆ NA       ┆ NA         ┆ NA    ┆ NA    │\n",
       "│            ┆       ┆ 17:31:56    ┆            ┆   ┆          ┆            ┆       ┆       │\n",
       "│ 9829       ┆ 55655 ┆ 2019-01-16  ┆ 2019-01-16 ┆ … ┆ NA       ┆ NA         ┆ NA    ┆ NA    │\n",
       "│            ┆       ┆ 12:40:27    ┆            ┆   ┆          ┆            ┆       ┆       │\n",
       "└────────────┴───────┴─────────────┴────────────┴───┴──────────┴────────────┴───────┴───────┘"
      ]
     },
     "execution_count": 3,
     "metadata": {},
     "output_type": "execute_result"
    }
   ],
   "source": [
    "mr_constant = pl.read_csv('C:\\\\Users\\\\user\\\\Documents\\\\danonki\\\\model_df_constant.csv' ,   ignore_errors=True )\n",
    "mr_constant = mr_constant.select(['patient_id','recording','create_date','date','visit_date','time_point','confidence','label','chunks_count','euthymia','depression','mania','mixed'])\n",
    "mr_constant = mr_constant.rename({\"recording\": \"mr\"})\n",
    "\n",
    "mr_constant = mr_constant.with_columns([\n",
    "    pl.when(pl.col(\"mr\") == \"NA\")\n",
    "    .then(None)\n",
    "    .otherwise(pl.col(\"mr\"))\n",
    "    .cast(pl.Int64)\n",
    "    .alias('mr')\n",
    "])\n",
    "\n",
    "mr_constant"
   ]
  },
  {
   "cell_type": "code",
   "execution_count": 4,
   "metadata": {},
   "outputs": [
    {
     "data": {
      "text/html": [
       "<div><style>\n",
       ".dataframe > thead > tr,\n",
       ".dataframe > tbody > tr {\n",
       "  text-align: right;\n",
       "  white-space: pre-wrap;\n",
       "}\n",
       "</style>\n",
       "<small>shape: (109, 4)</small><table border=\"1\" class=\"dataframe\"><thead><tr><th>patient_id</th><th>visit_date</th><th>label</th><th>count</th></tr><tr><td>i64</td><td>str</td><td>str</td><td>u32</td></tr></thead><tbody><tr><td>397</td><td>&quot;2018-10-02&quot;</td><td>&quot;depression&quot;</td><td>73</td></tr><tr><td>528</td><td>&quot;2018-08-08&quot;</td><td>&quot;euthymia&quot;</td><td>14</td></tr><tr><td>681</td><td>&quot;2018-08-23&quot;</td><td>&quot;depression&quot;</td><td>85</td></tr><tr><td>681</td><td>&quot;2018-11-10&quot;</td><td>&quot;depression&quot;</td><td>76</td></tr><tr><td>711</td><td>&quot;2018-01-17&quot;</td><td>&quot;mixed&quot;</td><td>4</td></tr><tr><td>&hellip;</td><td>&hellip;</td><td>&hellip;</td><td>&hellip;</td></tr><tr><td>9829</td><td>&quot;2018-07-03&quot;</td><td>&quot;depression&quot;</td><td>4</td></tr><tr><td>9829</td><td>&quot;2018-07-24&quot;</td><td>&quot;depression&quot;</td><td>18</td></tr><tr><td>9829</td><td>&quot;2018-09-05&quot;</td><td>&quot;depression&quot;</td><td>32</td></tr><tr><td>9829</td><td>&quot;2018-11-13&quot;</td><td>&quot;depression&quot;</td><td>52</td></tr><tr><td>9829</td><td>&quot;2018-10-01&quot;</td><td>&quot;depression&quot;</td><td>18</td></tr></tbody></table></div>"
      ],
      "text/plain": [
       "shape: (109, 4)\n",
       "┌────────────┬────────────┬────────────┬───────┐\n",
       "│ patient_id ┆ visit_date ┆ label      ┆ count │\n",
       "│ ---        ┆ ---        ┆ ---        ┆ ---   │\n",
       "│ i64        ┆ str        ┆ str        ┆ u32   │\n",
       "╞════════════╪════════════╪════════════╪═══════╡\n",
       "│ 397        ┆ 2018-10-02 ┆ depression ┆ 73    │\n",
       "│ 528        ┆ 2018-08-08 ┆ euthymia   ┆ 14    │\n",
       "│ 681        ┆ 2018-08-23 ┆ depression ┆ 85    │\n",
       "│ 681        ┆ 2018-11-10 ┆ depression ┆ 76    │\n",
       "│ 711        ┆ 2018-01-17 ┆ mixed      ┆ 4     │\n",
       "│ …          ┆ …          ┆ …          ┆ …     │\n",
       "│ 9829       ┆ 2018-07-03 ┆ depression ┆ 4     │\n",
       "│ 9829       ┆ 2018-07-24 ┆ depression ┆ 18    │\n",
       "│ 9829       ┆ 2018-09-05 ┆ depression ┆ 32    │\n",
       "│ 9829       ┆ 2018-11-13 ┆ depression ┆ 52    │\n",
       "│ 9829       ┆ 2018-10-01 ┆ depression ┆ 18    │\n",
       "└────────────┴────────────┴────────────┴───────┘"
      ]
     },
     "execution_count": 4,
     "metadata": {},
     "output_type": "execute_result"
    }
   ],
   "source": [
    "ramka = mr_constant.group_by(['patient_id','visit_date','label']).agg(pl.col(\"label\").count().alias(\"count\")).sort('patient_id').filter(pl.col('visit_date')!='NA')\n",
    "ramka"
   ]
  },
  {
   "cell_type": "code",
   "execution_count": 5,
   "metadata": {},
   "outputs": [
    {
     "data": {
      "text/html": [
       "<div><style>\n",
       ".dataframe > thead > tr,\n",
       ".dataframe > tbody > tr {\n",
       "  text-align: right;\n",
       "  white-space: pre-wrap;\n",
       "}\n",
       "</style>\n",
       "<small>shape: (4, 2)</small><table border=\"1\" class=\"dataframe\"><thead><tr><th>label</th><th>suma</th></tr><tr><td>str</td><td>u32</td></tr></thead><tbody><tr><td>&quot;euthymia&quot;</td><td>1698</td></tr><tr><td>&quot;mixed&quot;</td><td>434</td></tr><tr><td>&quot;depression&quot;</td><td>1589</td></tr><tr><td>&quot;mania&quot;</td><td>816</td></tr></tbody></table></div>"
      ],
      "text/plain": [
       "shape: (4, 2)\n",
       "┌────────────┬──────┐\n",
       "│ label      ┆ suma │\n",
       "│ ---        ┆ ---  │\n",
       "│ str        ┆ u32  │\n",
       "╞════════════╪══════╡\n",
       "│ euthymia   ┆ 1698 │\n",
       "│ mixed      ┆ 434  │\n",
       "│ depression ┆ 1589 │\n",
       "│ mania      ┆ 816  │\n",
       "└────────────┴──────┘"
      ]
     },
     "execution_count": 5,
     "metadata": {},
     "output_type": "execute_result"
    }
   ],
   "source": [
    "ramka.group_by('label').agg(pl.col('count').sum().alias('suma'))"
   ]
  },
  {
   "cell_type": "markdown",
   "metadata": {},
   "source": [
    "## Podział na 5 grup"
   ]
  },
  {
   "cell_type": "code",
   "execution_count": 7,
   "metadata": {},
   "outputs": [],
   "source": [
    "dane_1472 =  pl.read_csv('C:\\\\Users\\\\user\\\\Documents\\\\danonki\\\\vol2\\\\1472_all.csv' , n_rows = 5000000 , ignore_errors=True ) #12sek\n",
    "\n",
    "dane_2004 =  pl.read_csv('C:\\\\Users\\\\user\\\\Documents\\\\danonki\\\\2004_data.csv' , n_rows = 5000000 , ignore_errors=True ) #11sek\n",
    "dane_2004 = dane_2004.drop(dane_2004.columns[0]) #jeśli jest 100 kolumn\n",
    "\n",
    "dane_6139 =  pl.read_csv('C:\\\\Users\\\\user\\\\Documents\\\\danonki\\\\vol1\\\\6139_data.csv' , n_rows = 5000000 , ignore_errors=True ) #8sek\n",
    "dane_6139 = dane_6139.drop(dane_6139.columns[0]) #jeśli jest 100 kolumn\n",
    "\n",
    "dane_8281 =  pl.read_csv('C:\\\\Users\\\\user\\\\Documents\\\\danonki\\\\vol1\\\\8281_data.csv' , n_rows = 5000000 , ignore_errors=True ) #8sek\n",
    "dane_8281 = dane_8281.drop(dane_8281.columns[0]) #jeśli jest 100 kolumn\n",
    "\n",
    "dane1 = [dane_1472, dane_2004, dane_6139, dane_8281]\n",
    "\n"
   ]
  },
  {
   "cell_type": "code",
   "execution_count": 8,
   "metadata": {},
   "outputs": [],
   "source": [
    "reference_schema = dane_1472.schema "
   ]
  },
  {
   "cell_type": "code",
   "execution_count": 30,
   "metadata": {},
   "outputs": [],
   "source": [
    "dane_7379 =  pl.read_csv('C:\\\\Users\\\\user\\\\Documents\\\\danonki\\\\vol1\\\\7379_data.csv' , n_rows = 5000000 , ignore_errors=True ) #8sek\n",
    "dane_7379 = dane_7379.drop(dane_7379.columns[0]) #jeśli jest 100 kolumn\n",
    "\n",
    "dane_2582 =  pl.read_csv('C:\\\\Users\\\\user\\\\Documents\\\\danonki\\\\2582_data.csv' , n_rows = 5000000 , ignore_errors=True ) #13sek\n",
    "dane_2582 = dane_2582.drop(dane_2582.columns[0]) #jeśli jest 100 kolumn\n",
    "\n",
    "dane_7297 =  pl.read_csv('C:\\\\Users\\\\user\\\\Documents\\\\danonki\\\\vol1\\\\7297_data.csv' , n_rows = 5000000 , ignore_errors=True ) #8sek\n",
    "dane_7297 = dane_7297.drop(dane_7297.columns[0]) #jeśli jest 100 kolumn\n",
    "\n",
    "dane_6701 =  pl.read_csv('C:\\\\Users\\\\user\\\\Documents\\\\danonki\\\\vol2\\\\6701_all.csv' , n_rows = 5000000 , ignore_errors=True ) #12sek\n",
    "\n",
    "dane_9829 =  pl.read_csv('C:\\\\Users\\\\user\\\\Documents\\\\danonki\\\\vol1\\\\9829_data.csv' , n_rows = 5000000 , ignore_errors=True ) #8sek\n",
    "dane_9829 = dane_9829.drop(dane_9829.columns[0]) #jeśli jest 100 kolumn\n",
    "\n",
    "\n",
    "\n",
    "dane2 = [dane_2582, dane_7297, dane_6701, dane_9829, dane_7379]"
   ]
  },
  {
   "cell_type": "code",
   "execution_count": 42,
   "metadata": {},
   "outputs": [],
   "source": [
    "dane_4953 =  pl.read_csv('C:\\\\Users\\\\user\\\\Documents\\\\danonki\\\\vol1\\\\4953_data.csv' , n_rows = 5000000 , ignore_errors=True ) #8sek\n",
    "dane_4953 = dane_4953.drop(dane_4953.columns[0]) #jeśli jest 100 kolumn\n",
    "\n",
    "dane_8560 =  pl.read_csv('C:\\\\Users\\\\user\\\\Documents\\\\danonki\\\\vol2\\\\8560_all.csv' , n_rows = 5000000 , ignore_errors=True ) #12sek\n",
    "\n",
    "dane_1981 =  pl.read_csv('C:\\\\Users\\\\user\\\\Documents\\\\danonki\\\\vol2\\\\1981_all.csv' , n_rows = 5000000 , ignore_errors=True ) #12sek\n",
    "\n",
    "dane_6241 =  pl.read_csv('C:\\\\Users\\\\user\\\\Documents\\\\danonki\\\\vol1\\\\6241_data.csv' , n_rows = 5000000 , ignore_errors=True ) #8sek\n",
    "dane_6241 = dane_6241.drop(dane_6241.columns[0]) #jeśli jest 100 kolumn\n",
    "\n",
    "dane_8779=  pl.read_csv('C:\\\\Users\\\\user\\\\Documents\\\\danonki\\\\vol1\\\\8779_data.csv' , n_rows = 5000000 , ignore_errors=True ) #8sek\n",
    "dane_8779 = dane_8779.drop(dane_8779.columns[0]) #jeśli jest 100 kolumn\n",
    "\n",
    "dane3 = [dane_4953, dane_8560, dane_1981, dane_6241,dane_8779 ]"
   ]
  },
  {
   "cell_type": "code",
   "execution_count": 51,
   "metadata": {},
   "outputs": [],
   "source": [
    "dane_8866 =  pl.read_csv('C:\\\\Users\\\\user\\\\Documents\\\\danonki\\\\vol1\\\\8866_data.csv' , n_rows = 5000000 , ignore_errors=True ) #8sek\n",
    "dane_8866 = dane_8866.drop(dane_8866.columns[0]) #jeśli jest 100 kolumn\n",
    "\n",
    "dane_6754 =  pl.read_csv('C:\\\\Users\\\\user\\\\Documents\\\\danonki\\\\vol1\\\\6754_data.csv' , n_rows = 5000000 , ignore_errors=True ) #8sek\n",
    "dane_6754 = dane_6754.drop(dane_6754.columns[0]) #jeśli jest 100 kolumn\n",
    "\n",
    "dane_2500 =  pl.read_csv('C:\\\\Users\\\\user\\\\Documents\\\\danonki\\\\vol1\\\\2500_data.csv' , n_rows = 5000000 , ignore_errors=True ) #8sek\n",
    "dane_2500 = dane_2500.drop(dane_2500.columns[0]) #jeśli jest 100 kolumn\n",
    "\n",
    "dane_6601=  pl.read_csv('C:\\\\Users\\\\user\\\\Documents\\\\danonki\\\\vol1\\\\6601_data.csv' , n_rows = 5000000 , ignore_errors=True ) #8sek\n",
    "dane_6601 = dane_6601.drop(dane_6601.columns[0]) #jeśli jest 100 kolumn\n",
    "\n",
    "dane4 = [dane_8866, dane_6754, dane_2500, dane_6601 ]"
   ]
  },
  {
   "cell_type": "code",
   "execution_count": 60,
   "metadata": {},
   "outputs": [],
   "source": [
    "dane_9813 =  pl.read_csv('C:\\\\Users\\\\user\\\\Documents\\\\danonki\\\\vol1\\\\9813_data.csv' , n_rows = 5000000 , ignore_errors=True ) #8sek\n",
    "dane_9813 = dane_9813.drop(dane_9813.columns[0]) #jeśli jest 100 kolumn\n",
    "\n",
    "dane_5656 =  pl.read_csv('C:\\\\Users\\\\user\\\\Documents\\\\danonki\\\\vol1\\\\5656_data.csv' , n_rows = 5000000 , ignore_errors=True ) #8sek\n",
    "dane_5656 = dane_5656.drop(dane_5656.columns[0]) #jeśli jest 100 kolumn\n",
    "\n",
    "dane_4614 =  pl.read_csv('C:\\\\Users\\\\user\\\\Documents\\\\danonki\\\\vol1\\\\4614_data.csv' , n_rows = 5000000 , ignore_errors=True ) #8sek\n",
    "dane_4614 = dane_4614.drop(dane_4614.columns[0]) #jeśli jest 100 kolumn\n",
    "\n",
    "dane_0681 =  pl.read_csv('C:\\\\Users\\\\user\\\\Documents\\\\danonki\\\\vol1\\\\0681_data.csv' , n_rows = 5000000 , ignore_errors=True ) #8sek\n",
    "dane_0681 = dane_0681.drop(dane_0681.columns[0]) #jeśli jest 100 kolumn\n",
    "\n",
    "dane_1153 =  pl.read_csv('C:\\\\Users\\\\user\\\\Documents\\\\danonki\\\\vol1\\\\1153_data.csv' , n_rows = 5000000 , ignore_errors=True ) #8sek\n",
    "dane_1153 = dane_1153.drop(dane_1153.columns[0]) #jeśli jest 100 kolumn\n",
    "\n",
    "dane_8193 =  pl.read_csv('C:\\\\Users\\\\user\\\\Documents\\\\danonki\\\\vol1\\\\8193_data.csv' , n_rows = 5000000 , ignore_errors=True ) #8sek\n",
    "dane_8193 = dane_8193.drop(dane_8193.columns[0]) #jeśli jest 100 kolumn\n",
    "\n",
    "dane5 = [dane_9813, dane_5656, dane_4614, dane_0681 , dane_1153, dane_8193]"
   ]
  },
  {
   "cell_type": "markdown",
   "metadata": {},
   "source": [
    "## Przetwarzanie w grupach "
   ]
  },
  {
   "cell_type": "code",
   "execution_count": 9,
   "metadata": {},
   "outputs": [],
   "source": [
    "def process_dane_data(dane, mr ):\n",
    "    # Step 1: Perform a left join on the 'mr' column\n",
    "    dane = dane.join(mr, on='mr', how='left')\n",
    "    start_col='pcm_LOGenergy_sma' \n",
    "    end_col='pcm_fftMag_mfcc_12_'\n",
    "    # Step 2: Dynamically select columns between start_col and end_col, plus additional specified columns\n",
    "    all_columns = dane.columns\n",
    "    start_idx = all_columns.index(start_col)\n",
    "    end_idx = all_columns.index(end_col)\n",
    "    \n",
    "    # Select specific columns along with the dynamically sliced columns\n",
    "    dane = dane.select(\n",
    "        ['mr', 'patient_id', 'chunk_number', 'frame_nr', 'create_date', 'date', 'visit_date', 'time_point', \n",
    "         'confidence', 'label', 'chunks_count', 'euthymia', 'depression', 'mania', 'mixed'] \n",
    "        + all_columns[start_idx:end_idx + 1]\n",
    "    )\n",
    "    \n",
    "    # Step 3: Filter rows where 'time_point' is in the specified range\n",
    "    dane = dane.filter(pl.col('time_point').is_in(['-7', '-6', '-5', '-4', '-3', '-2', '-1', '0', '1', '2']))\n",
    "    \n",
    "    return dane\n",
    "\n",
    "\n",
    "# Function to cast Int64 columns to Float64\n",
    "def cast_int64_to_float64(df):\n",
    "    return df.with_columns(\n",
    "        [pl.col(c).cast(pl.Float64) for c in df.columns if df.schema[c] == pl.Int64]\n",
    "    )\n",
    "\n",
    "def cast_columns_to_reference_schema(df, reference_schema):\n",
    "    return df.with_columns([\n",
    "        pl.col(col_name).cast(pl.Float64) if reference_schema[col_name] == pl.Int64 else pl.col(col_name).cast(reference_schema[col_name]) \n",
    "        for col_name in df.columns if col_name in reference_schema  # Only cast if the column exists in both DataFrames\n",
    "    ])"
   ]
  },
  {
   "cell_type": "code",
   "execution_count": 69,
   "metadata": {},
   "outputs": [],
   "source": [
    "df = dane5\n",
    "# Process all dane data in the list\n",
    "dane_list = [process_dane_data(dane=dane, mr=mr_constant) for dane in df]"
   ]
  },
  {
   "cell_type": "code",
   "execution_count": 70,
   "metadata": {},
   "outputs": [],
   "source": [
    "# Apply the transformation to each dataset\n",
    "dane_list = [cast_int64_to_float64(dane) for dane in dane_list]\n"
   ]
  },
  {
   "cell_type": "code",
   "execution_count": 71,
   "metadata": {},
   "outputs": [],
   "source": [
    "\n",
    "# def cast_columns_to_reference_schema(df, reference_schema):\n",
    "#     return df.with_columns([\n",
    "#         pl.col(col_name).cast(reference_schema[col_name])  # Cast each column to the type from the reference schema\n",
    "#         for col_name in df.columns if col_name in reference_schema  # Only cast if the column exists in both DataFrames\n",
    "#     ])\n",
    "\n",
    "# Apply the transformation to each dataset in the list\n",
    "dane_list = [cast_columns_to_reference_schema(dane, reference_schema) for dane in dane_list]\n"
   ]
  },
  {
   "cell_type": "code",
   "execution_count": 34,
   "metadata": {},
   "outputs": [],
   "source": [
    "# reference_schema = dane_1472.schema  # Returns a dictionary of {column_name: data_type}\n",
    "\n",
    "# # Step 2: Cast the columns of dane_2582 to match the types in dane_1472\n",
    "# dane_6139 = dane_6139.with_columns([\n",
    "#     pl.col(col_name).cast(reference_schema[col_name])  # Cast each column to the type from dane_1472\n",
    "#     for col_name in dane_6139.columns if col_name in reference_schema  # Only cast if the column exists in both DataFrames\n",
    "# ])\n",
    "\n",
    "# dane_5656 = dane_5656.with_columns([\n",
    "#     pl.col(col_name).cast(reference_schema[col_name])  # Cast each column to the type from dane_1472\n",
    "#     for col_name in dane_5656.columns if col_name in reference_schema  # Only cast if the column exists in both DataFrames\n",
    "# ])"
   ]
  },
  {
   "cell_type": "code",
   "execution_count": 72,
   "metadata": {},
   "outputs": [],
   "source": [
    "#df = pl.concat([dane_1472, dane_2582, dane_6139, dane_2004,dane_4953, dane_8281,dane_8866, dane_4614,dane_7297,dane_5656,dane_9829])\n",
    "#df = df.filter(pl.col(['chunk_number']).is_in([0,1])  )\n",
    "dane_combined = pl.concat(dane_list, how=\"vertical\")\n",
    "dane_combined = dane_combined.filter(pl.col(['chunk_number']).is_in([0,1])  )\n"
   ]
  },
  {
   "cell_type": "code",
   "execution_count": 74,
   "metadata": {},
   "outputs": [],
   "source": [
    "#df.write_csv(\"C:\\\\Users\\\\user\\\\Documents\\\\danonki\\\\df11.csv\")\n",
    "#del dane_2004, dane_6139, dane_8281\n",
    "#del dane_2582, dane_6701, dane_7297, dane_9829, dane_7379\n",
    "#del dane_1981, dane_4953, dane_6241, dane_8560, dane_8779\n",
    "#del dane_2500, dane_6601, dane_6754, dane_8866\n",
    "del dane_0681, dane_1153, dane_4614, dane_5656, dane_8193, dane_9813"
   ]
  },
  {
   "cell_type": "code",
   "execution_count": 73,
   "metadata": {},
   "outputs": [
    {
     "data": {
      "text/html": [
       "<div><style>\n",
       ".dataframe > thead > tr,\n",
       ".dataframe > tbody > tr {\n",
       "  text-align: right;\n",
       "  white-space: pre-wrap;\n",
       "}\n",
       "</style>\n",
       "<small>shape: (4, 2)</small><table border=\"1\" class=\"dataframe\"><thead><tr><th>label</th><th>count</th></tr><tr><td>str</td><td>u32</td></tr></thead><tbody><tr><td>&quot;mania&quot;</td><td>294416</td></tr><tr><td>&quot;depression&quot;</td><td>1712812</td></tr><tr><td>&quot;mixed&quot;</td><td>137300</td></tr><tr><td>&quot;euthymia&quot;</td><td>262238</td></tr></tbody></table></div>"
      ],
      "text/plain": [
       "shape: (4, 2)\n",
       "┌────────────┬─────────┐\n",
       "│ label      ┆ count   │\n",
       "│ ---        ┆ ---     │\n",
       "│ str        ┆ u32     │\n",
       "╞════════════╪═════════╡\n",
       "│ mania      ┆ 294416  │\n",
       "│ depression ┆ 1712812 │\n",
       "│ mixed      ┆ 137300  │\n",
       "│ euthymia   ┆ 262238  │\n",
       "└────────────┴─────────┘"
      ]
     },
     "execution_count": 73,
     "metadata": {},
     "output_type": "execute_result"
    }
   ],
   "source": [
    "dane_combined.group_by([\"label\"]).agg(pl.col(\"label\").count().alias(\"count\"))"
   ]
  },
  {
   "cell_type": "code",
   "execution_count": 75,
   "metadata": {},
   "outputs": [],
   "source": [
    "dane_combined.write_csv(\"C:\\\\Users\\\\user\\\\Documents\\\\danonki\\\\dane5.csv\")\n"
   ]
  },
  {
   "cell_type": "code",
   "execution_count": 76,
   "metadata": {},
   "outputs": [],
   "source": [
    "del dane_combined, dane_list,  df, dane5"
   ]
  },
  {
   "cell_type": "markdown",
   "metadata": {},
   "source": [
    "# KONIEC PRZYGOTOWANIA DANYCH!"
   ]
  },
  {
   "cell_type": "code",
   "execution_count": 24,
   "metadata": {},
   "outputs": [],
   "source": [
    "df = dane_combined"
   ]
  },
  {
   "cell_type": "code",
   "execution_count": 25,
   "metadata": {},
   "outputs": [],
   "source": []
  },
  {
   "cell_type": "code",
   "execution_count": 26,
   "metadata": {},
   "outputs": [],
   "source": [
    "start_idx = df.columns.index('pcm_LOGenergy_sma')\n",
    "end_idx = df.columns.index('pcm_fftMag_mfcc_12_')\n",
    "    \n",
    "# Select specific columns along with the dynamically sliced columns\n",
    "feature_columns = df.select(df.columns[start_idx:end_idx + 1]).columns\n",
    "label_column = 'label' #['mania', 'mixed', 'euthymia', 'depression']\n",
    "\n",
    "label_encoder = LabelEncoder()\n",
    "df = df.with_columns(\n",
    "    pl.Series('label_encoded', label_encoder.fit_transform(df.select(label_column).to_numpy().flatten()))\n",
    ")"
   ]
  },
  {
   "cell_type": "code",
   "execution_count": 27,
   "metadata": {},
   "outputs": [
    {
     "name": "stdout",
     "output_type": "stream",
     "text": [
      "{'depression': 0, 'euthymia': 1, 'mania': 2, 'mixed': 3}\n"
     ]
    }
   ],
   "source": [
    "print(dict(zip(label_encoder.classes_, range(len(label_encoder.classes_)))))"
   ]
  },
  {
   "cell_type": "code",
   "execution_count": 28,
   "metadata": {},
   "outputs": [],
   "source": [
    "\n",
    "# Normalizacja cech\n",
    "scaler = StandardScaler()\n",
    "df = df.with_columns([pl.Series(col, scaler.fit_transform(df.select(col).to_numpy())) for col in feature_columns]) #6sek\n",
    "\n"
   ]
  },
  {
   "cell_type": "code",
   "execution_count": 29,
   "metadata": {},
   "outputs": [],
   "source": [
    "# Grupowanie danych według 'mr' (numeru rozmowy)\n",
    "grouped_data = df.group_by('mr').agg([\n",
    "    pl.col(col).arr.to_list().alias(col) for col in feature_columns  # Używamy .arr.to_list() dla agregacji\n",
    "]) # 16sek"
   ]
  },
  {
   "cell_type": "code",
   "execution_count": 30,
   "metadata": {},
   "outputs": [],
   "source": [
    "\n",
    "labels = df.group_by('mr').agg([pl.col('label_encoded').first()]).select('label_encoded').to_numpy().flatten()\n"
   ]
  },
  {
   "cell_type": "code",
   "execution_count": 31,
   "metadata": {},
   "outputs": [
    {
     "ename": "KeyboardInterrupt",
     "evalue": "",
     "output_type": "error",
     "traceback": [
      "\u001b[1;31m---------------------------------------------------------------------------\u001b[0m",
      "\u001b[1;31mKeyboardInterrupt\u001b[0m                         Traceback (most recent call last)",
      "Cell \u001b[1;32mIn[31], line 6\u001b[0m\n\u001b[0;32m      4\u001b[0m \u001b[38;5;66;03m# Zbieranie danych cech dla każdej rozmowy (z każdej grupy)\u001b[39;00m\n\u001b[0;32m      5\u001b[0m \u001b[38;5;28;01mfor\u001b[39;00m i \u001b[38;5;129;01min\u001b[39;00m \u001b[38;5;28mrange\u001b[39m(\u001b[38;5;28mlen\u001b[39m(grouped_data)):\n\u001b[1;32m----> 6\u001b[0m     frames \u001b[38;5;241m=\u001b[39m \u001b[43mnp\u001b[49m\u001b[38;5;241;43m.\u001b[39;49m\u001b[43marray\u001b[49m\u001b[43m(\u001b[49m\u001b[43m[\u001b[49m\u001b[43mgrouped_data\u001b[49m\u001b[43m[\u001b[49m\u001b[43mcol\u001b[49m\u001b[43m]\u001b[49m\u001b[43m[\u001b[49m\u001b[43mi\u001b[49m\u001b[43m]\u001b[49m\u001b[43m \u001b[49m\u001b[38;5;28;43;01mfor\u001b[39;49;00m\u001b[43m \u001b[49m\u001b[43mcol\u001b[49m\u001b[43m \u001b[49m\u001b[38;5;129;43;01min\u001b[39;49;00m\u001b[43m \u001b[49m\u001b[43mfeature_columns\u001b[49m\u001b[43m]\u001b[49m\u001b[43m)\u001b[49m\u001b[38;5;241m.\u001b[39mT  \u001b[38;5;66;03m# Transponujemy dane, aby ramki były wzdłuż odpowiedniej osi\u001b[39;00m\n\u001b[0;32m      7\u001b[0m     X\u001b[38;5;241m.\u001b[39mappend(frames)\n\u001b[0;32m      8\u001b[0m \u001b[38;5;66;03m#7min 50sek\u001b[39;00m\n",
      "File \u001b[1;32mc:\\Users\\user\\anaconda3\\envs\\phd\\lib\\site-packages\\polars\\series\\series.py:1352\u001b[0m, in \u001b[0;36mSeries.__array__\u001b[1;34m(self, dtype, copy)\u001b[0m\n\u001b[0;32m   1349\u001b[0m     msg \u001b[38;5;241m=\u001b[39m \u001b[38;5;124mf\u001b[39m\u001b[38;5;124m\"\u001b[39m\u001b[38;5;124minvalid input for `copy`: \u001b[39m\u001b[38;5;132;01m{\u001b[39;00mcopy\u001b[38;5;132;01m!r}\u001b[39;00m\u001b[38;5;124m\"\u001b[39m\n\u001b[0;32m   1350\u001b[0m     \u001b[38;5;28;01mraise\u001b[39;00m \u001b[38;5;167;01mTypeError\u001b[39;00m(msg)\n\u001b[1;32m-> 1352\u001b[0m arr \u001b[38;5;241m=\u001b[39m \u001b[38;5;28;43mself\u001b[39;49m\u001b[38;5;241;43m.\u001b[39;49m\u001b[43mto_numpy\u001b[49m\u001b[43m(\u001b[49m\u001b[43mwritable\u001b[49m\u001b[38;5;241;43m=\u001b[39;49m\u001b[43mwritable\u001b[49m\u001b[43m,\u001b[49m\u001b[43m \u001b[49m\u001b[43mallow_copy\u001b[49m\u001b[38;5;241;43m=\u001b[39;49m\u001b[43mallow_copy\u001b[49m\u001b[43m)\u001b[49m\n\u001b[0;32m   1354\u001b[0m \u001b[38;5;28;01mif\u001b[39;00m dtype \u001b[38;5;129;01mis\u001b[39;00m \u001b[38;5;129;01mnot\u001b[39;00m \u001b[38;5;28;01mNone\u001b[39;00m \u001b[38;5;129;01mand\u001b[39;00m dtype \u001b[38;5;241m!=\u001b[39m arr\u001b[38;5;241m.\u001b[39mdtype:\n\u001b[0;32m   1355\u001b[0m     \u001b[38;5;28;01mif\u001b[39;00m copy \u001b[38;5;129;01mis\u001b[39;00m \u001b[38;5;28;01mFalse\u001b[39;00m:\n\u001b[0;32m   1356\u001b[0m         \u001b[38;5;66;03m# TODO: Only raise when data must be copied\u001b[39;00m\n",
      "\u001b[1;31mKeyboardInterrupt\u001b[0m: "
     ]
    }
   ],
   "source": [
    "# Zamiast tworzenia macierzy 3D od razu, stworzymy listy sekwencji\n",
    "X = []\n",
    "\n",
    "# Zbieranie danych cech dla każdej rozmowy (z każdej grupy)\n",
    "for i in range(len(grouped_data)):\n",
    "    frames = np.array([grouped_data[col][i] for col in feature_columns]).T  # Transponujemy dane, aby ramki były wzdłuż odpowiedniej osi\n",
    "    X.append(frames)\n",
    "#7min 50sek"
   ]
  },
  {
   "cell_type": "code",
   "execution_count": 1,
   "metadata": {},
   "outputs": [
    {
     "ename": "NameError",
     "evalue": "name 'feature_columns' is not defined",
     "output_type": "error",
     "traceback": [
      "\u001b[1;31m---------------------------------------------------------------------------\u001b[0m",
      "\u001b[1;31mNameError\u001b[0m                                 Traceback (most recent call last)",
      "Cell \u001b[1;32mIn[1], line 7\u001b[0m\n\u001b[0;32m      4\u001b[0m X \u001b[38;5;241m=\u001b[39m []\n\u001b[0;32m      6\u001b[0m \u001b[38;5;66;03m# Check shape consistency before stacking\u001b[39;00m\n\u001b[1;32m----> 7\u001b[0m \u001b[38;5;28;01mfor\u001b[39;00m col \u001b[38;5;129;01min\u001b[39;00m \u001b[43mfeature_columns\u001b[49m:\n\u001b[0;32m      8\u001b[0m     column_data \u001b[38;5;241m=\u001b[39m np\u001b[38;5;241m.\u001b[39marray(grouped_data[col])\n\u001b[0;32m     10\u001b[0m     \u001b[38;5;28;01mif\u001b[39;00m X \u001b[38;5;241m==\u001b[39m []:  \u001b[38;5;66;03m# First iteration, add to X\u001b[39;00m\n",
      "\u001b[1;31mNameError\u001b[0m: name 'feature_columns' is not defined"
     ]
    }
   ],
   "source": [
    "import numpy as np\n",
    "\n",
    "# Initialize an empty list for data\n",
    "X = []\n",
    "\n",
    "# Check shape consistency before stacking\n",
    "for col in feature_columns:\n",
    "    column_data = np.array(grouped_data[col])\n",
    "    \n",
    "    if X == []:  # First iteration, add to X\n",
    "        X = column_data\n",
    "    else:  # Ensure all columns have consistent shapes\n",
    "        if column_data.shape != X.shape:\n",
    "            raise ValueError(f\"Shape mismatch: {col} has shape {column_data.shape}, expected {X.shape}\")\n",
    "        X = np.dstack([X, column_data])  # Stack along the third dimension\n",
    "\n",
    "# Transpose to match your original axis requirement\n",
    "X = np.transpose(X, (2, 1, 0)) "
   ]
  },
  {
   "cell_type": "code",
   "execution_count": 51,
   "metadata": {},
   "outputs": [],
   "source": [
    "max_len = 2000  # Maksymalna liczba ramek, do której dopasujemy sekwencje\n",
    "X_padded = pad_sequences(X, maxlen=max_len, dtype='float32', padding='post', truncating='post') #6min 5s\n"
   ]
  },
  {
   "cell_type": "code",
   "execution_count": 52,
   "metadata": {},
   "outputs": [],
   "source": [
    "y=labels"
   ]
  },
  {
   "cell_type": "code",
   "execution_count": 33,
   "metadata": {},
   "outputs": [],
   "source": [
    "# from tensorflow.keras.preprocessing.sequence import pad_sequences\n",
    "\n",
    "# # Ustalona maksymalna liczba ramek (np. 3000)\n",
    "# max_len = 3000\n",
    "\n",
    "# # Tworzenie macierzy X z danymi po paddingu\n",
    "# X = pad_sequences([grouped_data.select(col).to_numpy() for col in feature_columns], maxlen=max_len, dtype='float32', padding='post') #dopisuje pod koniec\n",
    "\n",
    "# # Zakładamy, że etykieta 'label' jest już zakodowana jako liczby całkowite\n",
    "# y = labels "
   ]
  },
  {
   "cell_type": "code",
   "execution_count": 214,
   "metadata": {},
   "outputs": [],
   "source": [
    "# # Wydzielamy cechy i etykiety\n",
    "# # Wydzielamy cechy i etykiety (konwersja na NumPy array)\n",
    "# X = df.select(feature_columns).to_numpy()  # Cechy w formacie NumPy\n",
    "# y = df.select('label_encoded').to_numpy().flatten()  # Etykiety w formacie NumPy"
   ]
  },
  {
   "cell_type": "code",
   "execution_count": 53,
   "metadata": {},
   "outputs": [],
   "source": [
    "# Podział danych na zestawy treningowy i walidacyjny (np. 80% dane treningowe, 20% walidacyjne)\n",
    "X_train, X_val, y_train, y_val = train_test_split(X_padded, y, test_size=0.2, random_state=42, stratify=y)"
   ]
  },
  {
   "cell_type": "code",
   "execution_count": 121,
   "metadata": {},
   "outputs": [],
   "source": [
    "# Xp = df_plenary\n",
    "# yp = df_plenary['label']\n",
    "# X_train_scaled, X_test_scaled, y_train_states_encoded, y_test_states_encoded= train_test_split(Xp,yp,  test_size=0.2, random_state=42)\n",
    "\n",
    "\n",
    "# all_columns = X_train_scaled.columns\n",
    "# start_idx = all_columns.index('pcm_LOGenergy_sma')\n",
    "# end_idx = all_columns.index('pcm_fftMag_mfcc_12_')\n",
    "    \n",
    "# X_train_scaled = X_train_scaled.select(all_columns[start_idx:end_idx + 1])\n",
    "\n",
    "# # from categorical to numeric target\n",
    "# label_coding = {'euthymia' : 0,\n",
    "#                 'depression' : 1,\n",
    "#                 'mania' : 2,\n",
    "#                 'mixed': 3}\n",
    "\n",
    "# # from categorical to numeric target\n",
    "# y_train_states_encoded = [label_coding[label] for label in y_train_states_encoded]\n",
    "\n",
    "\n",
    "# # #from categorical to numeric target\n",
    "# # y_train_states_encoded =  y_train_states_encoded.with_columns(\n",
    "# #     pl.when(pl.col(\"label\") == \"euthymia\").then(0)\n",
    "# #       .when(pl.col(\"label\") == \"depression\").then(1)\n",
    "# #       .when(pl.col(\"label\") == \"mania\").then(2)\n",
    "# #       .when(pl.col(\"label\") == \"mixed\").then(3)\n",
    "# #       .otherwise(None).alias(\"label\")\n",
    "# # )\n",
    "\n",
    "# # # # #TEST SET\n",
    "# all_columns = X_test_scaled.columns\n",
    "# X_test_scaled = X_test_scaled.select(all_columns[start_idx:end_idx + 1])\n",
    "\n",
    "# # y_test_states_encoded =  y_test_states_encoded.with_columns(\n",
    "# #     pl.when(pl.col(\"label\") == \"euthymia\").then(0)\n",
    "# #       .when(pl.col(\"label\") == \"depression\").then(1)\n",
    "# #       .when(pl.col(\"label\") == \"mania\").then(2)\n",
    "# #       .when(pl.col(\"label\") == \"mixed\").then(3)\n",
    "# #       .otherwise(None).alias(\"label\")\n",
    "# # )\n",
    "# y_test_states_encoded = [label_coding[label] for label in y_test_states_encoded]\n",
    "\n",
    "# # # # standardize data\n",
    "# scaler = preprocessing.StandardScaler()\n",
    "\n",
    "# X_train_scaled = scaler.fit_transform(X_train_scaled)\n",
    "# X_test_scaled = scaler.fit_transform(X_test_scaled)"
   ]
  },
  {
   "cell_type": "code",
   "execution_count": 124,
   "metadata": {},
   "outputs": [],
   "source": [
    "# y_train_states_encoded = np.array(y_train_states_encoded)\n",
    "# y_test_states_encoded = np.array(y_test_states_encoded)"
   ]
  },
  {
   "cell_type": "code",
   "execution_count": null,
   "metadata": {},
   "outputs": [],
   "source": [
    "#PLENARY\n",
    "\n",
    "def build_model():\n",
    "    model = tf.keras.models.Sequential([\n",
    "        tf.keras.layers.Dense(64, input_shape=(86,), activation='relu', name='dense'),\n",
    "        tf.keras.layers.Dropout(0.2, name='dropout'),\n",
    "        tf.keras.layers.Dense(4, activation='softmax', name='output')])\n",
    "    model.build()\n",
    "    return model\n",
    "\n",
    "model_name = \"baseline\"\n",
    "baseline = build_model()\n",
    "\n",
    "baseline.summary()"
   ]
  },
  {
   "cell_type": "code",
   "execution_count": null,
   "metadata": {},
   "outputs": [],
   "source": [
    "print(\"Czy GPU jestt : \", tf.config.list_physical_devices('GPU'))"
   ]
  },
  {
   "cell_type": "code",
   "execution_count": null,
   "metadata": {},
   "outputs": [],
   "source": [
    "baseline.compile(optimizer='adam',\n",
    "                loss=tf.keras.losses.SparseCategoricalCrossentropy(from_logits=False), \n",
    "                metrics=['accuracy'])\n",
    "\n",
    "early_stopping = tf.keras.callbacks.EarlyStopping(monitor='val_accuracy', patience=3) \n",
    "\n",
    "baseline.fit(X_train_scaled,\n",
    " y_train_states_encoded,\n",
    " epochs=10,\n",
    " validation_data=(X_test_scaled, y_test_states_encoded),\n",
    " callbacks=[early_stopping])\n",
    "\n",
    "y_pred_states = baseline.predict(X_test_scaled)\n",
    "y_pred_states = np.argmax(y_pred_states, axis=1)"
   ]
  },
  {
   "cell_type": "code",
   "execution_count": 1,
   "metadata": {},
   "outputs": [
    {
     "ename": "NameError",
     "evalue": "name 'X_padded' is not defined",
     "output_type": "error",
     "traceback": [
      "\u001b[1;31m---------------------------------------------------------------------------\u001b[0m",
      "\u001b[1;31mNameError\u001b[0m                                 Traceback (most recent call last)",
      "Cell \u001b[1;32mIn[1], line 8\u001b[0m\n\u001b[0;32m      5\u001b[0m model \u001b[38;5;241m=\u001b[39m Sequential()\n\u001b[0;32m      7\u001b[0m \u001b[38;5;66;03m# Warstwa konwolucyjna 1\u001b[39;00m\n\u001b[1;32m----> 8\u001b[0m model\u001b[38;5;241m.\u001b[39madd(Conv1D(filters\u001b[38;5;241m=\u001b[39m\u001b[38;5;241m64\u001b[39m, kernel_size\u001b[38;5;241m=\u001b[39m\u001b[38;5;241m3\u001b[39m, activation\u001b[38;5;241m=\u001b[39m\u001b[38;5;124m'\u001b[39m\u001b[38;5;124mrelu\u001b[39m\u001b[38;5;124m'\u001b[39m, padding\u001b[38;5;241m=\u001b[39m\u001b[38;5;124m'\u001b[39m\u001b[38;5;124msame\u001b[39m\u001b[38;5;124m'\u001b[39m, input_shape\u001b[38;5;241m=\u001b[39m(\u001b[43mX_padded\u001b[49m\u001b[38;5;241m.\u001b[39mshape[\u001b[38;5;241m1\u001b[39m], X_padded\u001b[38;5;241m.\u001b[39mshape[\u001b[38;5;241m2\u001b[39m])))\n\u001b[0;32m      9\u001b[0m model\u001b[38;5;241m.\u001b[39madd(MaxPooling1D(pool_size\u001b[38;5;241m=\u001b[39m\u001b[38;5;241m2\u001b[39m))\n\u001b[0;32m     11\u001b[0m \u001b[38;5;66;03m# Warstwa konwolucyjna 2\u001b[39;00m\n",
      "\u001b[1;31mNameError\u001b[0m: name 'X_padded' is not defined"
     ]
    }
   ],
   "source": [
    "from tensorflow.keras.models import Sequential\n",
    "from tensorflow.keras.layers import Conv1D, MaxPooling1D, LSTM, Dense, Dropout,Flatten\n",
    "\n",
    "# Budowa modelu CNN + LSTM\n",
    "model = Sequential()\n",
    "\n",
    "# Convolutional layers to extract local features\n",
    "model.add(Conv1D(filters=64, kernel_size=3, activation='relu',\n",
    "                 input_shape=(max_frames, num_features)))\n",
    "model.add(MaxPooling1D(pool_size=2))\n",
    "model.add(Conv1D(filters=128, kernel_size=3, activation='relu'))\n",
    "model.add(MaxPooling1D(pool_size=2))\n",
    "\n",
    "# LSTM layer to capture temporal dependencies\n",
    "model.add(LSTM(64))\n",
    "\n",
    "# Fully connected layers\n",
    "model.add(Dense(64, activation='relu'))\n",
    "model.add(Dropout(0.5))\n",
    "\n",
    "# Output layer\n",
    "model.add(Dense(num_classes, activation='softmax'))\n"
   ]
  },
  {
   "cell_type": "code",
   "execution_count": null,
   "metadata": {},
   "outputs": [],
   "source": [
    "history = model.fit(\n",
    "    X_train_scaled, y_train,\n",
    "    epochs=20,\n",
    "    batch_size=32,\n",
    "    validation_data=(X_test_scaled, y_test)\n",
    ")"
   ]
  },
  {
   "cell_type": "code",
   "execution_count": 56,
   "metadata": {},
   "outputs": [
    {
     "name": "stdout",
     "output_type": "stream",
     "text": [
      "Epoch 1/10\n",
      "20/20 [==============================] - 5s 204ms/step - loss: 1.4217 - accuracy: 0.3706 - val_loss: 1.3821 - val_accuracy: 0.3742\n",
      "Epoch 2/10\n",
      "20/20 [==============================] - 3s 167ms/step - loss: 1.3804 - accuracy: 0.3738 - val_loss: 1.3783 - val_accuracy: 0.3742\n",
      "Epoch 3/10\n",
      "20/20 [==============================] - 3s 149ms/step - loss: 1.3766 - accuracy: 0.3738 - val_loss: 1.3747 - val_accuracy: 0.3742\n",
      "Epoch 4/10\n",
      "20/20 [==============================] - 3s 149ms/step - loss: 1.3729 - accuracy: 0.3738 - val_loss: 1.3713 - val_accuracy: 0.3742\n"
     ]
    }
   ],
   "source": [
    "# Trenowanie modelu z oddzielnymi danymi walidacyjnymi\n",
    "# Definiowanie callbacku early stopping\n",
    "from tensorflow.keras.callbacks import EarlyStopping\n",
    "early_stopping = EarlyStopping(monitor='val_accuracy', patience=3, restore_best_weights=True)\n",
    "\n",
    "history = model.fit(X_train, y_train,\n",
    "                     epochs=10,\n",
    "                    batch_size=32,\n",
    "                      validation_data=(X_val, y_val),\n",
    "                      callbacks=[early_stopping])\n"
   ]
  },
  {
   "cell_type": "code",
   "execution_count": 57,
   "metadata": {},
   "outputs": [
    {
     "name": "stdout",
     "output_type": "stream",
     "text": [
      "5/5 [==============================] - 0s 37ms/step - loss: 1.3821 - accuracy: 0.3742\n",
      "Loss: 1.3821130990982056, Accuracy: 0.37419354915618896\n"
     ]
    },
    {
     "data": {
      "image/png": "[encoded data removed]",
      "text/plain": [
       "<Figure size 640x480 with 1 Axes>"
      ]
     },
     "metadata": {},
     "output_type": "display_data"
    }
   ],
   "source": [
    "val_loss, val_acc = model.evaluate(X_val, y_val)\n",
    "print(f'Loss: {val_loss}, Accuracy: {val_acc}')\n",
    "import matplotlib.pyplot as plt\n",
    "\n",
    "# Wykresy strata (loss) i dokładność (accuracy)\n",
    "plt.plot(history.history['accuracy'], label='Training Accuracy')\n",
    "plt.plot(history.history['val_accuracy'], label='Validation Accuracy')\n",
    "plt.xlabel('Epochs')\n",
    "plt.ylabel('Accuracy')\n",
    "plt.legend()\n",
    "plt.show()"
   ]
  },
  {
   "cell_type": "code",
   "execution_count": 58,
   "metadata": {},
   "outputs": [
    {
     "data": {
      "image/png": "[encoded data removed]",
      "text/plain": [
       "<Figure size 640x480 with 1 Axes>"
      ]
     },
     "metadata": {},
     "output_type": "display_data"
    },
    {
     "data": {
      "image/png": "[encoded data removed]",
      "text/plain": [
       "<Figure size 640x480 with 1 Axes>"
      ]
     },
     "metadata": {},
     "output_type": "display_data"
    }
   ],
   "source": [
    "# Wykresy strata (loss)\n",
    "plt.plot(history.history['loss'], label='Training Loss')\n",
    "plt.plot(history.history['val_loss'], label='Validation Loss')\n",
    "plt.xlabel('Epochs')\n",
    "plt.ylabel('Loss')\n",
    "plt.legend()\n",
    "plt.show()\n",
    "\n",
    "# Wykresy dokładność (accuracy)\n",
    "plt.plot(history.history['accuracy'], label='Training Accuracy')\n",
    "plt.plot(history.history['val_accuracy'], label='Validation Accuracy')\n",
    "plt.xlabel('Epochs')\n",
    "plt.ylabel('Accuracy')\n",
    "plt.legend()\n",
    "plt.show()"
   ]
  },
  {
   "cell_type": "code",
   "execution_count": 59,
   "metadata": {},
   "outputs": [
    {
     "name": "stdout",
     "output_type": "stream",
     "text": [
      "5/5 [==============================] - 0s 64ms/step\n"
     ]
    },
    {
     "data": {
      "image/png": "[encoded data removed]",
      "text/plain": [
       "<Figure size 640x480 with 2 Axes>"
      ]
     },
     "metadata": {},
     "output_type": "display_data"
    }
   ],
   "source": [
    "from sklearn.metrics import confusion_matrix\n",
    "import seaborn as sns\n",
    "\n",
    "# Predykcje na zbiorze walidacyjnym\n",
    "y_pred = model.predict(X_val)\n",
    "y_pred_classes = np.argmax(y_pred, axis=1)  # Wybieramy klasę z najwyższym prawdopodobieństwem\n",
    "\n",
    "# Tworzenie macierzy pomyłek\n",
    "conf_matrix = confusion_matrix(y_val, y_pred_classes)\n",
    "\n",
    "# Wizualizacja macierzy pomyłek\n",
    "sns.heatmap(conf_matrix, annot=True, fmt='d', cmap='Blues', xticklabels=label_encoder.classes_, yticklabels=label_encoder.classes_)\n",
    "plt.xlabel('Predicted Label')\n",
    "plt.ylabel('True Label')\n",
    "plt.show()"
   ]
  },
  {
   "cell_type": "code",
   "execution_count": null,
   "metadata": {},
   "outputs": [],
   "source": [
    "from sklearn.metrics import classification_report\n",
    "\n",
    "# Tworzenie raportu dla każdej klasy\n",
    "report = classification_report(y_val, y_pred_classes, target_names=label_encoder.classes_)\n",
    "print(report)"
   ]
  }
 ],
 "metadata": {
  "kernelspec": {
   "display_name": "phd",
   "language": "python",
   "name": "python3"
  },
  "language_info": {
   "codemirror_mode": {
    "name": "ipython",
    "version": 3
   },
   "file_extension": ".py",
   "mimetype": "text/x-python",
   "name": "python",
   "nbconvert_exporter": "python",
   "pygments_lexer": "ipython3",
   "version": "3.10.13"
  }
 },
 "nbformat": 4,
 "nbformat_minor": 2
}
